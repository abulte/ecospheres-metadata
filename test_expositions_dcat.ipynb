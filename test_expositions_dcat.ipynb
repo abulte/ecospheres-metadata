{
 "cells": [
  {
   "cell_type": "markdown",
   "metadata": {},
   "source": [
    "## Endpoints DCAT\n",
    "\n",
    "Recommandationns pour le POC Qualité : \n",
    "- Pas d'impératif de travailler sur du temps, possible de s'appuyer un dump des graphes ou de la base PostgreSQL\n",
    "\n",
    "Liens utiles : \n",
    "- Endpoint DCAT POC CKAN, exemple : https://preprod.data.developpement-durable.gouv.fr/dcat/catalog/jsonld?page=1\n",
    "- Endpoint DCAT data.gouv, exemple : https://www.data.gouv.fr/catalog.jsonld?page=1\n",
    "- Endpoint DCAT GeoNetworks, exemple : https://catalogue.datara.gouv.fr/geonetwork/srv/fre/rdf.search? (à vérifier)\n",
    "- [Documentation API data.gouv](https://doc.data.gouv.fr/api/reference/#/), en particulier */site/catalog.{format}*\n",
    "- [Documentation data.gouv](https://doc.data.gouv.fr/api/telecharger-un-catalogue-de-donnees/) spécifiquement sur le téléchargement et la consulation du catalogue en RDF.\n",
    "- [Documention GeoNetwork](https://geonetwork-opensource.org/manuals/4.0.x/en/api/rdf-dcat.html) endpoint DCAT\n",
    "- [Librairie Python RDFLib](https://rdflib.readthedocs.io/en/stable/intro_to_graphs.html) : navigation dans un graph RDF.\n",
    "\n",
    "\n",
    "Tests :\n",
    "- POC CKAN : comparer le temps de requête d'un graphe entre différentes pages.\n",
    "- Extraire des métadonnées et les convertir en DataFrame.\n",
    "- Comparer les expositions DCAT data.gouv, GeoNetworks, POC CKAN"
   ]
  },
  {
   "cell_type": "markdown",
   "metadata": {},
   "source": [
    "### DCAT POC CKAN\n",
    "\n",
    "#### Temps de réponse de l'API"
   ]
  },
  {
   "cell_type": "code",
   "execution_count": 16,
   "metadata": {},
   "outputs": [
    {
     "name": "stdout",
     "output_type": "stream",
     "text": [
      "Page 1: 31.023728370666504\n",
      "Page 50:  HTTP Error 504: Gateway Time-out\n",
      "Page 100: 39.53203773498535\n",
      "Page 200: 37.09558844566345\n"
     ]
    }
   ],
   "source": [
    "from rdflib import Graph, URIRef\n",
    "import time\n",
    "import pandas as pd\n",
    "\n",
    "pages = [1, 50, 100, 200]\n",
    "\n",
    "for page in pages:\n",
    "    try:\n",
    "        start_time = time.time()\n",
    "        Graph().parse(f\"https://preprod.data.developpement-durable.gouv.fr/dcat/catalog/jsonld?page={page}\")\n",
    "        print(f\"Page {page}:\", time.time()-start_time)\n",
    "    except Exception as exception:\n",
    "        print(f\"Page {page}: \", exception)"
   ]
  },
  {
   "cell_type": "markdown",
   "metadata": {},
   "source": [
    "#### Récupération de l'ID, du titre, de la description et de la licence des datasets"
   ]
  },
  {
   "cell_type": "code",
   "execution_count": 5,
   "metadata": {},
   "outputs": [],
   "source": [
    "graph = Graph().parse(f\"https://preprod.data.developpement-durable.gouv.fr/dcat/catalog/jsonld?page=1\")"
   ]
  },
  {
   "cell_type": "code",
   "execution_count": 74,
   "metadata": {},
   "outputs": [],
   "source": [
    "data = []\n",
    "for subject, predicate, object in graph.triples((None, URIRef(\"http://www.w3.org/1999/02/22-rdf-syntax-ns#type\"), URIRef(\"http://www.w3.org/ns/dcat#Dataset\"))):\n",
    "    data.append([subject,\n",
    "                graph.value(subject=subject, predicate=URIRef(\"http://purl.org/dc/terms/title\")),\n",
    "                graph.value(subject=subject, predicate=URIRef(\"http://purl.org/dc/terms/description\")),\n",
    "                graph.value(subject=subject, predicate=URIRef(\"http://purl.org/dc/terms/modified\")), \n",
    "                ])\n",
    "                    \n",
    "datasets = pd.DataFrame(data, columns= [\"Object\",\n",
    "                                        \"Title\",\n",
    "                                        \"Description\",\n",
    "                                        \"Modified\"])"
   ]
  }
 ],
 "metadata": {
  "kernelspec": {
   "display_name": "env",
   "language": "python",
   "name": "python3"
  },
  "language_info": {
   "codemirror_mode": {
    "name": "ipython",
    "version": 3
   },
   "file_extension": ".py",
   "mimetype": "text/x-python",
   "name": "python",
   "nbconvert_exporter": "python",
   "pygments_lexer": "ipython3",
   "version": "3.10.12"
  }
 },
 "nbformat": 4,
 "nbformat_minor": 2
}
