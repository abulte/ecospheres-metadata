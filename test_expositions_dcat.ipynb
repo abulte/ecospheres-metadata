{
 "cells": [
  {
   "cell_type": "markdown",
   "metadata": {},
   "source": [
    "## Endpoints DCAT\n",
    "\n",
    "Recommandations pour le POC Qualité : \n",
    "- Pas d'impératif de travailler sur du temps réel, possible de s'appuyer un dump des graphes ou de la base PostgreSQL\n",
    "\n",
    "Liens utiles : \n",
    "- Endpoint DCAT POC CKAN, exemple : https://preprod.data.developpement-durable.gouv.fr/dcat/catalog/jsonld?page=1\n",
    "- Endpoint DCAT data.gouv, exemple : https://www.data.gouv.fr/catalog.jsonld?page=1\n",
    "- Endpoint DCAT GeoNetwork via rdf.search, exemple : https://catalogue.datara.gouv.fr/geonetwork/srv/fre/rdf.search? (à vérifier) (passer par l'exposition DCAT des CSW).\n",
    "- Endpoint DCAT GeoNetwork via CSW (Géoservices de l'IGN) : https://data.geopf.fr/csw?SERVICE=CSW&VERSION=2.0.2&REQUEST=GetRecords&ElementSetName=full&ResultType=results&MaxRecords=10&OutputFormat=application/xml&OutputSchema=http%3A%2F%2Fwww.w3.org%2Fns%2Fdcat%23&NAMESPACE=xmlns%28dcat%3Dhttp%3A%2F%2Fwww.w3.org%2Fns%2Fdcat%23%29&TypeNames=dcat\n",
    "- Endpoint DCAT GeoNetwork via CSW depuis Geo-IDE : http://catalogue.geo-ide.developpement-durable.gouv.fr/catalogue/srv/eng/csw-moissonnable?service=CSW&REQUEST=GetRecordById&version=2.0.2&namespace=xmlns:csw=http://www.opengis.net/cat/csw&outputFormat=application/xml&outputSchema=http://www.w3.org/ns/dcat%23&ElementSetName=full&Id=fr-120066022-jdd-a307d028-d9d2-4605-a1e5-8d31bc573bef\n",
    "- [Documentation API data.gouv](https://doc.data.gouv.fr/api/reference/#/), en particulier */site/catalog.{format}*\n",
    "- [Documentation data.gouv](https://doc.data.gouv.fr/api/telecharger-un-catalogue-de-donnees/) spécifiquement sur le téléchargement et la consulation du catalogue en RDF.\n",
    "- [Documention GeoNetwork](https://geonetwork-opensource.org/manuals/4.0.x/en/api/rdf-dcat.html) endpoint DCAT\n",
    "- [Librairie Python RDFLib](https://rdflib.readthedocs.io/en/stable/intro_to_graphs.html) : navigation dans un graph RDF.\n",
    "\n",
    "Mettre des chemins d'URI dans les requêtes.\n",
    "\n",
    "Tests :\n",
    "- POC CKAN : comparer le temps de requête d'un graphe entre différentes pages.\n",
    "- Extraire des métadonnées et les convertir en DataFrame.\n",
    "- Comparer les expositions DCAT data.gouv, GeoNetworks, POC CKAN"
   ]
  },
  {
   "cell_type": "markdown",
   "metadata": {},
   "source": [
    "### DCAT POC CKAN\n",
    "\n",
    "#### Temps de réponse de l'API"
   ]
  },
  {
   "cell_type": "code",
   "execution_count": 1,
   "metadata": {},
   "outputs": [],
   "source": [
    "import rdflib\n",
    "import time\n",
    "import pandas as pd"
   ]
  },
  {
   "cell_type": "code",
   "execution_count": null,
   "metadata": {},
   "outputs": [],
   "source": [
    "CKAN_INTEGRATION = \"https://integration.data.e2.rie.gouv.fr/dcat/catalog/jsonld?page=1\"\n",
    "CKAN_PREPPROD = \"https://integration.data.e2.rie.gouv.fr/dcat/catalog/jsonld?page=1\"\n",
    "\n",
    "graph_ckan = rdflib.Graph().parse(CKAN_INTEGRATION)"
   ]
  },
  {
   "cell_type": "code",
   "execution_count": null,
   "metadata": {},
   "outputs": [],
   "source": [
    "# Evaluation du temps de réponse de l'API (~30-40s par page)\n",
    "pages = [1, 50, 100, 200]\n",
    "\n",
    "for page in pages:\n",
    "    try:\n",
    "        start_time = time.time()\n",
    "        rdflib.Graph().parse(f\"https://preprod.data.developpement-durable.gouv.fr/dcat/catalog/jsonld?page={page}\")\n",
    "        print(f\"Page {page}:\", time.time()-start_time)\n",
    "    except Exception as exception:\n",
    "        print(f\"Page {page}: \", exception)"
   ]
  },
  {
   "cell_type": "code",
   "execution_count": null,
   "metadata": {},
   "outputs": [],
   "source": [
    "### Dump .json des expositions DCAT des pages \n",
    "from pathlib import Path\n",
    "from datetime import date\n",
    "import glob\n",
    "\n",
    "for page in range(1, 254):\n",
    "    file_name = f\"tmp/dumps/integration_page_{page}_\" + str(date.today()) + \".json\"\n",
    "    if file_name not in glob.glob(\"tmp/dumps/*.json\"):\n",
    "        print(f\"Processing page {page}\")\n",
    "        try:\n",
    "            graph_ckan = rdflib.Graph().parse(f\"https://integration.data.e2.rie.gouv.fr/dcat/catalog/jsonld?page={page}\")\n",
    "            file_name = f\"integration_page_{page}_\" + str(date.today())\n",
    "            graph_ckan.serialize(destination = Path(file_name), format=\"json-ld\", auto_compact=True)\n",
    "        except Exception as exception:\n",
    "            print(f\"Fail to load graph for page {page}\")"
   ]
  },
  {
   "cell_type": "markdown",
   "metadata": {},
   "source": [
    "#### Récupération de l'URI du datasets, du titre, de la description, de la date de modification et de la licence"
   ]
  },
  {
   "cell_type": "code",
   "execution_count": 2,
   "metadata": {},
   "outputs": [],
   "source": [
    "class DCATReaderCKAN:\n",
    "    def __init__(self, graph_path:str):\n",
    "        self.graph_path = graph_path\n",
    "        self._graph = rdflib.Graph().parse(graph_path)\n",
    "        \n",
    "    def get_data(self) -> pd.DataFrame:\n",
    "        dataset_uri = self._get_datasets_uri()\n",
    "\n",
    "        data = []\n",
    "        for uri in dataset_uri:\n",
    "            data.append(\n",
    "                {\n",
    "                    \"dataset\": uri,\n",
    "                    \"title\": self._get_dataset_title(uri),\n",
    "                    \"description\": self._get_dataset_description(uri),\n",
    "                    \"modification\": self._get_dataset_modification(uri),\n",
    "                    \"right_statement\": self._get_dataset_right_statement(uri),\n",
    "                    \"key_words\": self._get_dataset_key_words(uri)\n",
    "                }\n",
    "            )\n",
    "            \n",
    "        return pd.DataFrame(data)\n",
    "        \n",
    "    def _get_datasets_uri(self) -> list[rdflib.term.URIRef]:\n",
    "        uri = []\n",
    "        for subject, _, _ in self._graph.triples((None, rdflib.term.URIRef(\"http://www.w3.org/1999/02/22-rdf-syntax-ns#type\"),rdflib.term.URIRef(\"http://www.w3.org/ns/dcat#Dataset\"))):\n",
    "            uri.append(subject)\n",
    "        return uri\n",
    "    \n",
    "    def _get_dataset_title(self, dataset_uri:rdflib.term.URIRef)->rdflib.term.Literal:\n",
    "        return self._graph.value(subject=dataset_uri, predicate=rdflib.term.URIRef(\"http://purl.org/dc/terms/title\"))\n",
    "    \n",
    "    def _get_dataset_description(self, dataset_uri:rdflib.term.URIRef)->rdflib.term.Literal:\n",
    "        return self._graph.value(subject=dataset_uri, predicate=rdflib.term.URIRef(\"http://purl.org/dc/terms/description\"))\n",
    "    \n",
    "    def _get_dataset_modification(self, dataset_uri:rdflib.term.URIRef)->rdflib.term.Literal:\n",
    "        return self._graph.value(subject=dataset_uri, predicate=rdflib.term.URIRef(\"http://purl.org/dc/terms/modified\"))\n",
    "    \n",
    "    def _get_dataset_right_statement(self, dataset_uri:rdflib.term.URIRef)->str:\n",
    "        rigth_statements = []\n",
    "        for _, _, object in self._graph.triples((dataset_uri,rdflib.term.URIRef(\"http://purl.org/dc/terms/accessRights\"), None)):    \n",
    "            for _, _, object_bnode in self._graph.triples((object,rdflib.term.URIRef(\"http://www.w3.org/2000/01/rdf-schema#label\"), None)):\n",
    "                rigth_statements.append(object_bnode)\n",
    "                \n",
    "        return ' '.join(rigth_statements)\n",
    "    \n",
    "    def _get_dataset_key_words(self, dataset_uri:rdflib.term.URIRef)->str:\n",
    "        key_words = []\n",
    "        for _, _, object in self._graph.triples((dataset_uri,rdflib.term.URIRef(\"http://www.w3.org/ns/dcat#keyword\"), None)):\n",
    "            key_words.append(object)\n",
    "        return ' '.join(key_words)\n",
    "    "
   ]
  },
  {
   "cell_type": "code",
   "execution_count": 4,
   "metadata": {},
   "outputs": [],
   "source": [
    "import glob\n",
    "\n",
    "data = []\n",
    "for graph in glob.glob(\"tmp/dumps/*.json\"):\n",
    "    data.append(\n",
    "        DCATReaderCKAN(graph).get_data()\n",
    "    )\n",
    "    \n",
    "data = pd.concat(data)"
   ]
  },
  {
   "cell_type": "markdown",
   "metadata": {},
   "source": [
    "### data.gouv\n",
    "#### Récupération de l'URI du datasets, du titre, de la description, de la date de modification et de la licence"
   ]
  },
  {
   "cell_type": "code",
   "execution_count": null,
   "metadata": {},
   "outputs": [],
   "source": [
    "graph = rdflib.Graph().parse(\"https://www.data.gouv.fr/catalog.jsonld?page=1\")"
   ]
  },
  {
   "cell_type": "code",
   "execution_count": null,
   "metadata": {},
   "outputs": [],
   "source": [
    "data = []\n",
    "for subject, predicate, object in graph.triples((None,rdflib.term.URIRef(\"http://www.w3.org/1999/02/22-rdf-syntax-ns#type\"),rdflib.term.URIRef(\"http://www.w3.org/ns/dcat#Dataset\"))):\n",
    "    data.append([subject,\n",
    "                graph.value(subject=subject, predicate=rdflib.term.URIRef(\"http://purl.org/dc/terms/title\")),\n",
    "                graph.value(subject=subject, predicate=rdflib.term.URIRef(\"http://purl.org/dc/terms/description\")),\n",
    "                graph.value(subject=subject, predicate=rdflib.term.URIRef(\"http://purl.org/dc/terms/modified\")), \n",
    "                graph.value(subject=subject, predicate=rdflib.term.URIRef(\"http://purl.org/dc/terms/license\")),\n",
    "                graph.value(subject=subject, predicate=rdflib.term.URIRef(\"http://www.w3.org/ns/dcat#startDate\")),\n",
    "                graph.value(subject=subject, predicate=rdflib.term.URIRef(\"http://www.w3.org/ns/dcat#endDate\")),\n",
    "                ])\n",
    "                    \n",
    "datasets_data_gouv = pd.DataFrame(data, columns= [\"Object\",\n",
    "                                        \"Title\",\n",
    "                                        \"Description\",\n",
    "                                        \"Modified\",\n",
    "                                        \"Licence\",\n",
    "                                        \"Start Date\",\n",
    "                                        \"End Date\"])"
   ]
  }
 ],
 "metadata": {
  "kernelspec": {
   "display_name": "env",
   "language": "python",
   "name": "python3"
  },
  "language_info": {
   "codemirror_mode": {
    "name": "ipython",
    "version": 3
   },
   "file_extension": ".py",
   "mimetype": "text/x-python",
   "name": "python",
   "nbconvert_exporter": "python",
   "pygments_lexer": "ipython3",
   "version": "3.10.12"
  }
 },
 "nbformat": 4,
 "nbformat_minor": 2
}
