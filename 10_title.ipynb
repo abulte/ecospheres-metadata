{
 "cells": [
  {
   "attachments": {},
   "cell_type": "markdown",
   "metadata": {
    "slideshow": {
     "slide_type": "slide"
    }
   },
   "source": [
    "## Titres\n",
    "\n",
    "**Traitements**  \n",
    "-Comptabilisation du nombre de mots : chaînes de caractères séparées par un espace."
   ]
  },
  {
   "cell_type": "code",
   "execution_count": null,
   "metadata": {
    "slideshow": {
     "slide_type": "skip"
    }
   },
   "outputs": [],
   "source": [
    "import pandas as pd\n",
    "from IPython.display import Markdown as md\n",
    "\n",
    "from utils.utils import wrapper_engine, count_words\n",
    "engine = wrapper_engine('config.ini')\n",
    "\n",
    "from utils import custom_settings\n",
    "from itables import show\n",
    "custom_settings.apply_itable_custom_settings()"
   ]
  },
  {
   "cell_type": "code",
   "execution_count": null,
   "metadata": {
    "slideshow": {
     "slide_type": "skip"
    }
   },
   "outputs": [],
   "source": [
    "# Load data\n",
    "with engine.connect() as connection:\n",
    "    package = pd.read_sql_table(\n",
    "        table_name=\"package\", \n",
    "        con=connection,\n",
    "        schema=\"public\",\n",
    "        )\n",
    "    \n",
    "package = package[package[\"type\"]=='dataset']"
   ]
  },
  {
   "attachments": {},
   "cell_type": "markdown",
   "metadata": {
    "slideshow": {
     "slide_type": "skip"
    }
   },
   "source": [
    "**Nombre de datasets avec un titre, unicité**"
   ]
  },
  {
   "cell_type": "code",
   "execution_count": null,
   "metadata": {
    "slideshow": {
     "slide_type": "skip"
    }
   },
   "outputs": [],
   "source": [
    "show(package[[\"id\", \"title\"]].rename(columns={\"id\":\"datasets\"}).describe())"
   ]
  },
  {
   "cell_type": "code",
   "execution_count": null,
   "metadata": {
    "slideshow": {
     "slide_type": "-"
    }
   },
   "outputs": [],
   "source": [
    "package[\"title_length\"] = package[\"title\"].apply(lambda title: count_words(title))\n",
    "\n",
    "import plotly\n",
    "import plotly.express as px\n",
    "plotly.offline.init_notebook_mode(connected=True)\n",
    "\n",
    "fig = px.histogram(package, \n",
    "                   x=\"title_length\",\n",
    "                   template=\"seaborn\",\n",
    "                   labels={\"title_length\": \"Longueur des titres [mot]\",},\n",
    "                   color_discrete_sequence=['#000091'])\n",
    "fig.update_layout(bargap=0.2,\n",
    "                  yaxis_title=\"Nombre\")\n",
    "fig.update_traces(opacity=0.8)\n",
    "fig.add_vline(\n",
    "    x=int(package[\"title_length\"].median()), \n",
    "    line_width=3, \n",
    "    line_dash=\"dash\", \n",
    "    line_color=\"red\",\n",
    "    annotation_text=\"médiane\",\n",
    "    annotation_textangle = -90)\n",
    "fig.update_layout(margin=dict(l=20, r=20, t=20, b=20))\n",
    "plotly.offline.iplot(fig)"
   ]
  },
  {
   "attachments": {},
   "cell_type": "markdown",
   "metadata": {
    "slideshow": {
     "slide_type": "subslide"
    }
   },
   "source": [
    "**Exemples de titres monoblocs**"
   ]
  },
  {
   "cell_type": "code",
   "execution_count": null,
   "metadata": {
    "slideshow": {
     "slide_type": "-"
    }
   },
   "outputs": [],
   "source": [
    "columns = ['title', 'notes']\n",
    "show(package[package[\"title_length\"] == 1][columns])"
   ]
  }
 ],
 "metadata": {
  "celltoolbar": "Diaporama",
  "kernelspec": {
   "display_name": "Python 3 (ipykernel)",
   "language": "python",
   "name": "python3"
  },
  "language_info": {
   "codemirror_mode": {
    "name": "ipython",
    "version": 3
   },
   "file_extension": ".py",
   "mimetype": "text/x-python",
   "name": "python",
   "nbconvert_exporter": "python",
   "pygments_lexer": "ipython3",
   "version": "3.10.10"
  }
 },
 "nbformat": 4,
 "nbformat_minor": 2
}
