{
 "cells": [
  {
   "attachments": {},
   "cell_type": "markdown",
   "metadata": {
    "slideshow": {
     "slide_type": "slide"
    }
   },
   "source": [
    "## Temporal\n",
    "\n",
    "**Observations**  \n",
    "-Remplissage  \n"
   ]
  },
  {
   "cell_type": "code",
   "execution_count": null,
   "metadata": {
    "slideshow": {
     "slide_type": "skip"
    }
   },
   "outputs": [],
   "source": [
    "import pandas as pd\n",
    "\n",
    "from utils import wrapper_engine, get_value_from_json_serialization, date_string_to_datetime\n",
    "engine = wrapper_engine('config.ini')\n",
    "\n",
    "import custom_settings\n",
    "from itables import show\n",
    "custom_settings.apply_itable_custom_settings()"
   ]
  },
  {
   "cell_type": "code",
   "execution_count": null,
   "metadata": {
    "slideshow": {
     "slide_type": "skip"
    }
   },
   "outputs": [],
   "source": [
    "# Load data\n",
    "with engine.connect() as connection:\n",
    "    package = pd.read_sql_table(\n",
    "        table_name=\"package\", \n",
    "        con=connection,\n",
    "        schema=\"public\",\n",
    "        )\n",
    "    \n",
    "    package_extra = pd.read_sql_table(\n",
    "        table_name=\"package_extra\", \n",
    "        con=connection,\n",
    "        schema=\"public\",\n",
    "        )\n",
    "    \n",
    "temporal = package_extra[package_extra[\"key\"]==\"temporal\"].copy(deep=True)"
   ]
  },
  {
   "attachments": {},
   "cell_type": "markdown",
   "metadata": {
    "slideshow": {
     "slide_type": "-"
    }
   },
   "source": [
    "**Nombre de datasets avec la métadonnée 'temporal'**"
   ]
  },
  {
   "cell_type": "code",
   "execution_count": null,
   "metadata": {},
   "outputs": [],
   "source": [
    "show(temporal[[\"package_id\", \"value\"]].rename(columns={\"package_id\":\"datasets\", \"value\":\"temporal\"}).describe())"
   ]
  },
  {
   "cell_type": "markdown",
   "metadata": {
    "slideshow": {
     "slide_type": "subslide"
    }
   },
   "source": [
    "**Datasets avec la métadonnée temporal**"
   ]
  },
  {
   "cell_type": "code",
   "execution_count": null,
   "metadata": {
    "slideshow": {
     "slide_type": "subslide"
    }
   },
   "outputs": [],
   "source": [
    "datasets_with_temporal = temporal.merge(package, how=\"inner\", left_on=\"package_id\", right_on=\"id\")\n",
    "show(datasets_with_temporal[[\"title\", \"notes\", \"value\"]].rename(columns={\"value\":\"temporal\"}))"
   ]
  },
  {
   "cell_type": "code",
   "execution_count": null,
   "metadata": {
    "slideshow": {
     "slide_type": "skip"
    }
   },
   "outputs": [],
   "source": [
    "datasets_with_temporal[\"start_date\"] = datasets_with_temporal[\"value\"].apply(lambda x: get_value_from_json_serialization(x, key=\"start_date\")[0]).apply(lambda x: date_string_to_datetime(x))\n",
    "datasets_with_temporal[\"end_date\"] = datasets_with_temporal[\"value\"].apply(lambda x: get_value_from_json_serialization(x, key=\"end_date\")[0]).apply(lambda x: date_string_to_datetime(x))"
   ]
  },
  {
   "cell_type": "code",
   "execution_count": null,
   "metadata": {},
   "outputs": [],
   "source": [
    "datasets_with_temporal.sort_values(by=[\"start_date\", \"end_date\"], inplace=True)\n",
    "datasets_with_temporal[\"Datasets\"] = [i for i in range(len(datasets_with_temporal))]\n",
    "\n",
    "import plotly\n",
    "import plotly.express as px\n",
    "plotly.offline.init_notebook_mode(connected=True)\n",
    "\n",
    "fig = px.timeline(datasets_with_temporal, \n",
    "                  x_start=\"start_date\", \n",
    "                  x_end=\"end_date\", \n",
    "                  y=\"Datasets\", \n",
    "                  hover_data=[\"title\"],\n",
    "                  color_discrete_sequence=['#000091'])\n",
    "fig.update_layout(bargap=0.2,\n",
    "                  yaxis_title=\"Datasets\",\n",
    "                  xaxis_title=\"temporal\")\n",
    "fig.update_traces(opacity=0.8)\n",
    "fig.update_yaxes(autorange=\"reversed\")\n",
    "plotly.offline.iplot(fig)"
   ]
  }
 ],
 "metadata": {
  "kernelspec": {
   "display_name": "env",
   "language": "python",
   "name": "python3"
  },
  "language_info": {
   "codemirror_mode": {
    "name": "ipython",
    "version": 3
   },
   "file_extension": ".py",
   "mimetype": "text/x-python",
   "name": "python",
   "nbconvert_exporter": "python",
   "pygments_lexer": "ipython3",
   "version": "3.10.10"
  },
  "orig_nbformat": 4
 },
 "nbformat": 4,
 "nbformat_minor": 2
}
