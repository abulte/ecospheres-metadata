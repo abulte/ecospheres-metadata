{
 "cells": [
  {
   "attachments": {},
   "cell_type": "markdown",
   "metadata": {
    "slideshow": {
     "slide_type": "slide"
    }
   },
   "source": [
    "## Temporal\n",
    "\n",
    "**Observations**  \n",
    "-Remplissage  \n",
    "-Distribution de la longueur des périodes"
   ]
  },
  {
   "cell_type": "code",
   "execution_count": 1,
   "metadata": {},
   "outputs": [],
   "source": [
    "import pandas as pd\n",
    "from utils import wrapper_engine, head_as_table\n",
    "\n",
    "engine = wrapper_engine('config.ini')\n",
    "\n",
    "# Load data\n",
    "with engine.connect() as connection:\n",
    "    package_extra = pd.read_sql_table(\n",
    "        table_name=\"package_extra\", \n",
    "        con=connection,\n",
    "        schema=\"public\",\n",
    "        )\n",
    "    \n",
    "temporal = package_extra[package_extra[\"key\"]==\"temporal\"].copy(deep=True)"
   ]
  },
  {
   "attachments": {},
   "cell_type": "markdown",
   "metadata": {
    "slideshow": {
     "slide_type": "-"
    }
   },
   "source": [
    "**Nombre de datasets avec la métadonnée 'temporal'**"
   ]
  },
  {
   "cell_type": "code",
   "execution_count": 2,
   "metadata": {},
   "outputs": [
    {
     "data": {
      "text/markdown": [
       "**tableau complet :** 4 lignes × 2 colonnes"
      ],
      "text/plain": [
       "<IPython.core.display.Markdown object>"
      ]
     },
     "metadata": {},
     "output_type": "display_data"
    },
    {
     "data": {
      "text/html": [
       "<style type=\"text/css\">\n",
       "</style>\n",
       "<table id=\"T_34245\">\n",
       "  <thead>\n",
       "    <tr>\n",
       "      <th id=\"T_34245_level0_col0\" class=\"col_heading level0 col0\" >index</th>\n",
       "      <th id=\"T_34245_level0_col1\" class=\"col_heading level0 col1\" >package_id</th>\n",
       "    </tr>\n",
       "  </thead>\n",
       "  <tbody>\n",
       "    <tr>\n",
       "      <td id=\"T_34245_row0_col0\" class=\"data row0 col0\" >count</td>\n",
       "      <td id=\"T_34245_row0_col1\" class=\"data row0 col1\" >550</td>\n",
       "    </tr>\n",
       "    <tr>\n",
       "      <td id=\"T_34245_row1_col0\" class=\"data row1 col0\" >unique</td>\n",
       "      <td id=\"T_34245_row1_col1\" class=\"data row1 col1\" >550</td>\n",
       "    </tr>\n",
       "    <tr>\n",
       "      <td id=\"T_34245_row2_col0\" class=\"data row2 col0\" >top</td>\n",
       "      <td id=\"T_34245_row2_col1\" class=\"data row2 col1\" >f4034c97-b6f1-4fc7-bed0-d26a8b62104b</td>\n",
       "    </tr>\n",
       "    <tr>\n",
       "      <td id=\"T_34245_row3_col0\" class=\"data row3 col0\" >freq</td>\n",
       "      <td id=\"T_34245_row3_col1\" class=\"data row3 col1\" >1</td>\n",
       "    </tr>\n",
       "  </tbody>\n",
       "</table>\n"
      ],
      "text/plain": [
       "<pandas.io.formats.style.Styler at 0x23d2d6140d0>"
      ]
     },
     "metadata": {},
     "output_type": "display_data"
    }
   ],
   "source": [
    "head_as_table(temporal[[\"package_id\"]].describe().reset_index(), n_rows=5)"
   ]
  }
 ],
 "metadata": {
  "kernelspec": {
   "display_name": "env",
   "language": "python",
   "name": "python3"
  },
  "language_info": {
   "codemirror_mode": {
    "name": "ipython",
    "version": 3
   },
   "file_extension": ".py",
   "mimetype": "text/x-python",
   "name": "python",
   "nbconvert_exporter": "python",
   "pygments_lexer": "ipython3",
   "version": "3.10.10"
  },
  "orig_nbformat": 4
 },
 "nbformat": 4,
 "nbformat_minor": 2
}
