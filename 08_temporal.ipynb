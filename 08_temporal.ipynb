{
 "cells": [
  {
   "attachments": {},
   "cell_type": "markdown",
   "metadata": {
    "slideshow": {
     "slide_type": "slide"
    }
   },
   "source": [
    "## Temporal\n",
    "\n",
    "**Observations**  \n",
    "-Remplissage  \n"
   ]
  },
  {
   "cell_type": "code",
   "execution_count": 4,
   "metadata": {},
   "outputs": [],
   "source": [
    "import pandas as pd\n",
    "from utils import wrapper_engine, head_as_table\n",
    "\n",
    "engine = wrapper_engine('config.ini')\n",
    "\n",
    "# Load data\n",
    "with engine.connect() as connection:\n",
    "    package = pd.read_sql_table(\n",
    "        table_name=\"package\", \n",
    "        con=connection,\n",
    "        schema=\"public\",\n",
    "        )\n",
    "    \n",
    "    package_extra = pd.read_sql_table(\n",
    "        table_name=\"package_extra\", \n",
    "        con=connection,\n",
    "        schema=\"public\",\n",
    "        )\n",
    "    \n",
    "temporal = package_extra[package_extra[\"key\"]==\"temporal\"].copy(deep=True)"
   ]
  },
  {
   "attachments": {},
   "cell_type": "markdown",
   "metadata": {
    "slideshow": {
     "slide_type": "-"
    }
   },
   "source": [
    "**Nombre de datasets avec la métadonnée 'temporal'**"
   ]
  },
  {
   "cell_type": "code",
   "execution_count": 2,
   "metadata": {},
   "outputs": [
    {
     "data": {
      "text/markdown": [
       "**tableau complet :** 4 lignes × 2 colonnes"
      ],
      "text/plain": [
       "<IPython.core.display.Markdown object>"
      ]
     },
     "metadata": {},
     "output_type": "display_data"
    },
    {
     "data": {
      "text/html": [
       "<style type=\"text/css\">\n",
       "</style>\n",
       "<table id=\"T_e0932\">\n",
       "  <thead>\n",
       "    <tr>\n",
       "      <th id=\"T_e0932_level0_col0\" class=\"col_heading level0 col0\" >index</th>\n",
       "      <th id=\"T_e0932_level0_col1\" class=\"col_heading level0 col1\" >package_id</th>\n",
       "    </tr>\n",
       "  </thead>\n",
       "  <tbody>\n",
       "    <tr>\n",
       "      <td id=\"T_e0932_row0_col0\" class=\"data row0 col0\" >count</td>\n",
       "      <td id=\"T_e0932_row0_col1\" class=\"data row0 col1\" >550</td>\n",
       "    </tr>\n",
       "    <tr>\n",
       "      <td id=\"T_e0932_row1_col0\" class=\"data row1 col0\" >unique</td>\n",
       "      <td id=\"T_e0932_row1_col1\" class=\"data row1 col1\" >550</td>\n",
       "    </tr>\n",
       "    <tr>\n",
       "      <td id=\"T_e0932_row2_col0\" class=\"data row2 col0\" >top</td>\n",
       "      <td id=\"T_e0932_row2_col1\" class=\"data row2 col1\" >f4034c97-b6f1-4fc7-bed0-d26a8b62104b</td>\n",
       "    </tr>\n",
       "    <tr>\n",
       "      <td id=\"T_e0932_row3_col0\" class=\"data row3 col0\" >freq</td>\n",
       "      <td id=\"T_e0932_row3_col1\" class=\"data row3 col1\" >1</td>\n",
       "    </tr>\n",
       "  </tbody>\n",
       "</table>\n"
      ],
      "text/plain": [
       "<pandas.io.formats.style.Styler at 0x220741af910>"
      ]
     },
     "metadata": {},
     "output_type": "display_data"
    }
   ],
   "source": [
    "head_as_table(temporal[[\"package_id\"]].describe().reset_index(), n_rows=5)"
   ]
  },
  {
   "cell_type": "code",
   "execution_count": 7,
   "metadata": {},
   "outputs": [
    {
     "data": {
      "text/markdown": [
       "**tableau complet :** 550 lignes × 2 colonnes"
      ],
      "text/plain": [
       "<IPython.core.display.Markdown object>"
      ]
     },
     "metadata": {},
     "output_type": "display_data"
    },
    {
     "data": {
      "text/html": [
       "<style type=\"text/css\">\n",
       "</style>\n",
       "<table id=\"T_d857d\">\n",
       "  <thead>\n",
       "    <tr>\n",
       "      <th id=\"T_d857d_level0_col0\" class=\"col_heading level0 col0\" >title</th>\n",
       "      <th id=\"T_d857d_level0_col1\" class=\"col_heading level0 col1\" >notes</th>\n",
       "    </tr>\n",
       "  </thead>\n",
       "  <tbody>\n",
       "    <tr>\n",
       "      <td id=\"T_d857d_row0_col0\" class=\"data row0 col0\" >Localisation des procédures d’évolution du plan local d’urbanisme de Paris depuis son approbation en juin 2006 – table des surfaces</td>\n",
       "      <td id=\"T_d857d_row0_col1\" class=\"data row0 col1\" >La Ville de Paris dispose d’un plan local d’urbanisme (PLU), approuvé par délibération du Conseil de Paris des 12 et 13 juin 2006. Ce document a été modifié à de nombreuses reprises depuis cette date, par voie de révision simplifiée, de modification ou de mise en compatibilité. \n",
       "\n",
       "La table L_EVOL_PLU_PARIS_S_075 recense les procédures d’évolution du PLU de Paris depuis son approbation en juin 2006 qui :\n",
       "- soit n’ont porté que sur un nombre réduit de secteurs du territoire parisien, pouvant faire l’objet d’une représentation surfacique ;\n",
       "- soit présentaient un caractère général et ne peuvent être associées à un site spécifique.\n",
       "\n",
       "Les procédures liées à des lignes de transports en commun n’apparaissent pas dans cette table, mais dans la table L_EVOL_PLU_PARIS_L_075 (géométrie linéaire).\n",
       "\n",
       "Outre les procédures approuvées, la table L_EVOL_PLU_PARIS_S_075 comprend également les procédures « en cours », soit des projets d’évolutions non encore adoptés mais qui ont déjà fait l’objet de décisions administratives, d’une déclaration d’intention, d’une concertation ou de consultations administratives (par exemple la saisine de l’autorité environnementale). Apparaissent également, en étant identifiées comme telles, les procédures qui ont été abandonnées après leur lancement officiel.</td>\n",
       "    </tr>\n",
       "    <tr>\n",
       "      <td id=\"T_d857d_row1_col0\" class=\"data row1 col0\" >SUDOCUH-2019-PLUi-MET-DOM - Etat d'avancement des communes des PLUi en métropole et DOM</td>\n",
       "      <td id=\"T_d857d_row1_col1\" class=\"data row1 col1\" >Ce jeu de données décrit, la composition communale par PLUi (Plan Local d'Urbanisme intercommunal), les procédures en élaboration ou révision du PLUi en cours et celles qui sont approuvées.\n",
       "Les données élémentaires de l'année N sont produites par les directions départementales des territoires en janvier N+1 et arrêtées au 31 décembre N (ici 2019). Le jeu de données millésimé est produit habituellement en mars après un processus de vérification notamment de leur complétude, de leur cohérence par rapport au COG de l'année. Des inexactitudes très ponctuelles restent toutefois possibles.\n",
       "\n",
       "Cartographie associée:\n",
       "\n",
       "https://carto2.geo-ide.din.developpement-durable.gouv.fr/frontoffice/?map=57503419-6252-4cce-b1c8-5084556b8fad</td>\n",
       "    </tr>\n",
       "    <tr>\n",
       "      <td id=\"T_d857d_row2_col0\" class=\"data row2 col0\" >SUDOCUH-2019-EPCI-MET - Etat d'avancement des EPCI en Métropole</td>\n",
       "      <td id=\"T_d857d_row2_col1\" class=\"data row2 col1\" >Ce jeu de données décrit, par EPCI (établissements publics de coopération intercommunale *) hors syndicats mixtes et PETR (pôle d'équilibre territorial et rural) le type d'EP ainsi que le nom de l'EP.\n",
       "La remontée des compositions communales des EP se faisant a travers l’enquête SuDocUH, outil de suivi en temps réel des procédures de planification en matière d’urbanisme et d’habitat au 31/12/2019.\n",
       "Les données élémentaires de l'année N sont produites par les directions départementales des territoires en janvier N+1 et arrêtées au 31 décembre N (ici 2018). Le jeu de données millésimé est produit habituellement en mars après un processus de vérification notamment de leur complétude, de leur cohérence par rapport au COG de l'année. Des inexactitudes très ponctuelles restent toutefois possibles.\n",
       "\n",
       "* Les établissements publics de coopération intercommunale (EPCI) sont des regroupements de communes ayant pour objet l'élaboration de « projets communs de développement au sein de périmètres de solidarité ». Ils sont soumis à des règles communes, homogènes et comparables à celles de collectivités locales. Les communautés urbaines, communautés d'agglomération, communautés de communes, syndicats d'agglomération nouvelle, syndicats de communes et les syndicats  mixtes sont des EPCI.\n",
       "\n",
       "Cartographie associée :\n",
       "\n",
       "https://carto2.geo-ide.din.developpement-durable.gouv.fr/frontoffice/?map=57503419-6252-4cce-b1c8-5084556b8fad#</td>\n",
       "    </tr>\n",
       "    <tr>\n",
       "      <td id=\"T_d857d_row3_col0\" class=\"data row3 col0\" >SUDOCUH-2019-COM-PLUiS-MET-DOM - Etat d'avancement des communes des PLUiS en métropole et DOM</td>\n",
       "      <td id=\"T_d857d_row3_col1\" class=\"data row3 col1\" >Ce jeu de données décrit, la composition communale par PLUiS (Plan Local d'Urbanisme intercommunal sectoriel), les procédures en élaboration ou révision du PLUiS en cours et celles qui sont approuvées.\n",
       "Les données élémentaires de l'année N sont produites par les directions départementales des territoires en janvier N+1 et arrêtées au 31 décembre N (ici 2019). Le jeu de données millésimé est produit habituellement en mars après un processus de vérification notamment de leur complétude, de leur cohérence par rapport au COG de l'année. Des inexactitudes très ponctuelles restent toutefois possibles.\n",
       "\n",
       "Cartographie associée :\n",
       "\n",
       "https://carto2.geo-ide.din.developpement-durable.gouv.fr/frontoffice/?map=57503419-6252-4cce-b1c8-5084556b8fad#</td>\n",
       "    </tr>\n",
       "    <tr>\n",
       "      <td id=\"T_d857d_row4_col0\" class=\"data row4 col0\" >SUDOCUH-2019-COM-SCOT-MET-DOM - Etat d'avancement des communes des SCOT</td>\n",
       "      <td id=\"T_d857d_row4_col1\" class=\"data row4 col1\" >Ce jeu de données décrit, la composition communale par SCOT, les procédures en élaboration ou révision du SCOT en cours et celles qui sont approuvées.\n",
       "Les données élémentaires de l'année N sont produites par les directions départementales des territoires en janvier N+1 et arrêtées au 31 décembre N (ici 2019). Le jeu de données millésimé est produit habituellement en mars après un processus de vérification notamment de leur complétude, de leur cohérence par rapport au COG de l'année. Des inexactitudes très ponctuelles restent toutefois possibles.\n",
       "\n",
       "La loi sur la solidarité et le renouvellement urbain (loi SRU) du 13/12/2000 prévoit la mise en place, à partir du 1er janvier 2002 des schémas de cohérence territoriale, qui remplacent les schémas directeurs. Élaborés par les élus, à l'échelle du bassin de vie, d'habitat ou d'emploi, ils auront pour vocation d'exprimer la stratégie globale de l'agglomération et d'énoncer les choix principaux en matière d'habitat, d'équilibre entre zones naturelles et urbaines, d'infrastructures, d'urbanisme commercial. Dans les zones péri-urbaines, au cas où le SCOT n'existe pas, toute zone d'urbanisation sera bloquée, sauf accord du préfet, dans un rayon de 15 km autour des communes de l'agglomération si celle-ci compte plus de 15 000 habitants.\n",
       "\n",
       "Cartographie associée:\n",
       "\n",
       "https://carto2.geo-ide.din.developpement-durable.gouv.fr/frontoffice/?map=57503419-6252-4cce-b1c8-5084556b8fad</td>\n",
       "    </tr>\n",
       "  </tbody>\n",
       "</table>\n"
      ],
      "text/plain": [
       "<pandas.io.formats.style.Styler at 0x220741ef850>"
      ]
     },
     "metadata": {},
     "output_type": "display_data"
    }
   ],
   "source": [
    "datasets_with_temporal = temporal.merge(package, how=\"inner\", left_on=\"package_id\", right_on=\"id\")\n",
    "head_as_table(datasets_with_temporal[[\"title\", \"notes\"]], n_rows=5)"
   ]
  }
 ],
 "metadata": {
  "kernelspec": {
   "display_name": "env",
   "language": "python",
   "name": "python3"
  },
  "language_info": {
   "codemirror_mode": {
    "name": "ipython",
    "version": 3
   },
   "file_extension": ".py",
   "mimetype": "text/x-python",
   "name": "python",
   "nbconvert_exporter": "python",
   "pygments_lexer": "ipython3",
   "version": "3.10.10"
  },
  "orig_nbformat": 4
 },
 "nbformat": 4,
 "nbformat_minor": 2
}
