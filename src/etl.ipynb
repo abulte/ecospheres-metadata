{
 "cells": [
  {
   "attachments": {},
   "cell_type": "markdown",
   "id": "b61ff4a8-41bf-4e03-9cc4-ccef70fb9ff6",
   "metadata": {},
   "source": [
    "# Pipeline de traitement des données (du DUMP à la base de données)\n",
    "\n",
    "Permet d'extraire, transformer et charger les données issues du dump des fichiers json-ld (s3 MinIO) jusqu'à la base de donnée (postgres)\n",
    "\n",
    "## Entrées\n",
    "Il faut avoir accès au S3 avec les fichier et copier dans le notebook la ligne de connexion (ligne disponible dans votre profil SSP Cloud -> Profil -> Connexion au Stockage -> Python (S3FS)\n",
    "\n",
    "Ce bucket s3 est disponible au sein du projet **projet-ecolab-action-qualite**.\n",
    "## Sortie\n",
    "Remplit une base de données POSTGRESQL dont les identifiants sont lu depuis un fichier .env\n",
    "\n",
    "```\n",
    "POSTGRES_URL=....\n",
    "POSTGRES_DB=...\n",
    "POSTGRES_USER=...\n",
    "POSTGRES_PASSWORD=...\n",
    "```\n",
    "## Visualisation\n",
    "La base de données est connectée à une instance de Superset. "
   ]
  },
  {
   "cell_type": "markdown",
   "id": "1f32e6b6-6dcb-4e03-86d9-46c5fd587db4",
   "metadata": {},
   "source": [
    "## Imports"
   ]
  },
  {
   "cell_type": "code",
   "execution_count": 2,
   "id": "0b890aa5-c5ef-4949-9e44-15c2b25b208f",
   "metadata": {},
   "outputs": [
    {
     "data": {
      "text/plain": [
       "True"
      ]
     },
     "execution_count": 2,
     "metadata": {},
     "output_type": "execute_result"
    }
   ],
   "source": [
    "from extract import extract \n",
    "from transform import transform\n",
    "from load import load\n",
    "\n",
    "from dotenv import load_dotenv\n",
    "\n",
    "\n",
    "load_dotenv()"
   ]
  },
  {
   "cell_type": "markdown",
   "id": "616a706e-8882-48fc-bfd7-e18819197517",
   "metadata": {},
   "source": [
    "## ETL"
   ]
  },
  {
   "cell_type": "code",
   "execution_count": 4,
   "id": "511bb35b-f75d-464b-8e6b-d66ca5edce93",
   "metadata": {},
   "outputs": [],
   "source": [
    "df = extract('metabase.csv')\n",
    "df_processed = transform('metabase.csv')\n",
    "load('metabase.csv)"
   ]
  },
  {
   "cell_type": "markdown",
   "id": "ef7da869-f5cd-45ed-8966-9a8f7137bfaf",
   "metadata": {},
   "source": [
    "## Création du describe() en ligne"
   ]
  },
  {
   "cell_type": "code",
   "execution_count": null,
   "id": "f0565094-607f-4c6a-bf01-744223377fcd",
   "metadata": {},
   "outputs": [],
   "source": [
    "import sweetviz as sv\n",
    "\n",
    "my_report = sv.analyze(data)\n",
    "my_report.show_html() # Default arguments will generate to \"SWEETVIZ_REPORT.html\""
   ]
  },
  {
   "cell_type": "markdown",
   "id": "aca4b1c6-139a-431d-bc63-0872e126ea8a",
   "metadata": {},
   "source": [
    "## Dump in s3 as parquet (beta)"
   ]
  },
  {
   "cell_type": "code",
   "execution_count": 11,
   "id": "73abc380-629f-44ba-9d17-b2eb76957420",
   "metadata": {},
   "outputs": [],
   "source": [
    "data.to_parquet(f's3://{BUCKET}/DUMP_INTEGRATION_JSON/dump.parquet')\n",
    "\n",
    "import boto3\n",
    "s3 = boto3.client(\"s3\",endpoint_url = 'https://'+'minio.lab.sspcloud.fr',\n",
    "                  aws_access_key_id= 'CZXRRD5MEOM6KQJRZQL4', \n",
    "                  aws_secret_access_key= 'ZxPppMmnYMBR+u31RtFnBa3DtWy+y1s80zclUpQz', \n",
    "                  aws_session_token = 'eyJhbGciOiJIUzUxMiIsInR5cCI6IkpXVCJ9.eyJhY2Nlc3NLZXkiOiJDWlhSUkQ1TUVPTTZLUUpSWlFMNCIsImFsbG93ZWQtb3JpZ2lucyI6WyIqIl0sImF1ZCI6WyJtaW5pby1kYXRhbm9kZSIsIm9ueXhpYSIsImFjY291bnQiXSwiYXV0aF90aW1lIjoxNjk5NDMxMTcxLCJhenAiOiJvbnl4aWEiLCJlbWFpbCI6InF1ZW50aW4ubG9yaWRhbnRAbXVsdGkuY29vcCIsImVtYWlsX3ZlcmlmaWVkIjp0cnVlLCJleHAiOjE3MDAyMTIzNDUsImZhbWlseV9uYW1lIjoiTG9yaWRhbnQiLCJnaXZlbl9uYW1lIjoiUXVlbnRpbiIsImdyb3VwcyI6WyJlY29sYWItYWN0aW9uLXF1YWxpdGUiXSwiaWF0IjoxNzAwMTI1OTQ1LCJpc3MiOiJodHRwczovL2F1dGgubGFiLnNzcGNsb3VkLmZyL2F1dGgvcmVhbG1zL3NzcGNsb3VkIiwianRpIjoiMjkxZGJhODItOWYyMi00ZjhjLTgyNzItMzUzODEyZmJiMGUwIiwibmFtZSI6IlF1ZW50aW4gTG9yaWRhbnQiLCJwb2xpY3kiOiJzdHNvbmx5IiwicHJlZmVycmVkX3VzZXJuYW1lIjoicXVlbnRpbmxvcmlkYW50IiwicmVhbG1fYWNjZXNzIjp7InJvbGVzIjpbIm9mZmxpbmVfYWNjZXNzIiwidW1hX2F1dGhvcml6YXRpb24iLCJkZWZhdWx0LXJvbGVzLXNzcGNsb3VkIl19LCJyZXNvdXJjZV9hY2Nlc3MiOnsiYWNjb3VudCI6eyJyb2xlcyI6WyJtYW5hZ2UtYWNjb3VudCIsIm1hbmFnZS1hY2NvdW50LWxpbmtzIiwidmlldy1wcm9maWxlIl19fSwic2NvcGUiOiJvcGVuaWQgcHJvZmlsZSBncm91cHMgZW1haWwiLCJzZXNzaW9uUG9saWN5IjoiZXlKV1pYSnphVzl1SWpvaU1qQXhNaTB4TUMweE55SXNJbE4wWVhSbGJXVnVkQ0k2VzNzaVJXWm1aV04wSWpvaVFXeHNiM2NpTENKQlkzUnBiMjRpT2xzaWN6TTZLaUpkTENKU1pYTnZkWEpqWlNJNld5SmhjbTQ2WVhkek9uTXpPam82Y0hKdmFtVjBMV1ZqYjJ4aFlpMWhZM1JwYjI0dGNYVmhiR2wwWlNJc0ltRnlianBoZDNNNmN6TTZPanB3Y205cVpYUXRaV052YkdGaUxXRmpkR2x2YmkxeGRXRnNhWFJsTHlvaVhYMHNleUpGWm1abFkzUWlPaUpCYkd4dmR5SXNJa0ZqZEdsdmJpSTZXeUp6TXpwTWFYTjBRblZqYTJWMElsMHNJbEpsYzI5MWNtTmxJanBiSW1GeWJqcGhkM002Y3pNNk9qb3FJbDBzSWtOdmJtUnBkR2x2YmlJNmV5SlRkSEpwYm1kTWFXdGxJanA3SW5Nek9uQnlaV1pwZUNJNkltUnBabVoxYzJsdmJpOHFJbjE5ZlN4N0lrVm1abVZqZENJNklrRnNiRzkzSWl3aVFXTjBhVzl1SWpwYkluTXpPa2RsZEU5aWFtVmpkQ0pkTENKU1pYTnZkWEpqWlNJNld5SmhjbTQ2WVhkek9uTXpPam82S2k5a2FXWm1kWE5wYjI0dktpSmRmVjE5Iiwic2Vzc2lvbl9zdGF0ZSI6ImNlZTBhOGYxLTA4NjMtNGQ5OC1hZDNiLWQ1MWQ4N2I4Zjg4YSIsInNpZCI6ImNlZTBhOGYxLTA4NjMtNGQ5OC1hZDNiLWQ1MWQ4N2I4Zjg4YSIsInN1YiI6Ijg1NjQzNjFmLWQ3MTctNDhhYy04YTA2LTdlZjY5ZTlmZTRiMCIsInR5cCI6IkJlYXJlciJ9.KV-DgYdDBOA6WYZuIj5S_772qIGXKJKz_qyOz_YWcpGRrbp2BVEcQ2EDUZvoxDHbWHQQGo3F8bxDf4nOADJhdg')\n",
    "with open(\"dump.parquet\", \"rb\") as f:\n",
    "    s3.upload_fileobj(f, BUCKET, \"dump.parquet\")"
   ]
  }
 ],
 "metadata": {
  "kernelspec": {
   "display_name": "Python 3 (ipykernel)",
   "language": "python",
   "name": "python3"
  },
  "language_info": {
   "codemirror_mode": {
    "name": "ipython",
    "version": 3
   },
   "file_extension": ".py",
   "mimetype": "text/x-python",
   "name": "python",
   "nbconvert_exporter": "python",
   "pygments_lexer": "ipython3",
   "version": "3.10.13"
  }
 },
 "nbformat": 4,
 "nbformat_minor": 5
}
