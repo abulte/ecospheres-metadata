{
 "cells": [
  {
   "attachments": {},
   "cell_type": "markdown",
   "id": "b61ff4a8-41bf-4e03-9cc4-ccef70fb9ff6",
   "metadata": {},
   "source": [
    "# Pipeline de traitement des données (du DUMP à la base de données)\n",
    "\n",
    "Permet d'extraire, transformer et charger les données issues du dump des fichiers json-ld (s3 MinIO) jusqu'à la base de donnée (postgres)\n",
    "\n",
    "## Entrées\n",
    "Il faut avoir accès au S3 avec les fichier et copier dans le notebook la ligne de connexion (ligne disponible dans votre profil SSP Cloud -> Profil -> Connexion au Stockage -> Python (S3FS)\n",
    "\n",
    "Ce bucket s3 est disponible au sein du projet **projet-ecolab-action-qualite**.\n",
    "## Sortie\n",
    "Remplit une base de données POSTGRESQL dont les identifiants sont lu depuis un fichier .env\n",
    "\n",
    "```\n",
    "POSTGRES_URL=....\n",
    "POSTGRES_DB=...\n",
    "POSTGRES_USER=...\n",
    "POSTGRES_PASSWORD=...\n",
    "```\n",
    "## Visualisation\n",
    "La base de données est connectée à une instance de Superset. "
   ]
  },
  {
   "cell_type": "markdown",
   "id": "1f32e6b6-6dcb-4e03-86d9-46c5fd587db4",
   "metadata": {},
   "source": [
    "## Imports"
   ]
  },
  {
   "cell_type": "code",
   "execution_count": null,
   "id": "0b890aa5-c5ef-4949-9e44-15c2b25b208f",
   "metadata": {},
   "outputs": [],
   "source": [
    "import rdflib\n",
    "import time\n",
    "import pandas as pd\n",
    "import os\n",
    "import s3fs\n",
    "import logging\n",
    "import glob\n",
    "import json\n",
    "import sys\n",
    "\n",
    "from dotenv import load_dotenv\n",
    "from unidecode import unidecode\n",
    "\n",
    "load_dotenv()\n",
    "\n",
    "current_dir = os.getcwd()\n",
    "subfolder_a_path = os.path.abspath(os.path.join(current_dir, '..', 'utils'))\n",
    "sys.path.append(subfolder_a_path)\n",
    "\n",
    "from dcat_reader_ckan import CatalogReader, DatasetReader\n",
    "from utils import create_universe_pprn"
   ]
  },
  {
   "cell_type": "markdown",
   "id": "616a706e-8882-48fc-bfd7-e18819197517",
   "metadata": {},
   "source": [
    "## Lecture du dump"
   ]
  },
  {
   "cell_type": "code",
   "execution_count": null,
   "id": "8953084c-8397-46b6-86ba-a6d59a72aa4f",
   "metadata": {},
   "outputs": [],
   "source": [
    "# Create filesystem object\n",
    "S3_ENDPOINT_URL = 'https://minio.lab.sspcloud.fr'\n",
    "\n",
    "# Enter S3 cmd copied form SSLab : \n",
    "\n",
    "#######\n",
    "\n",
    "datasets = []\n",
    "catalogs = []\n",
    "iteration = 0\n",
    "BUCKET = \"projet-ecolab-action-qualite\"\n",
    "fs = s3fs.S3FileSystem(client_kwargs={'endpoint_url': 'https://'+'minio.lab.sspcloud.fr'},key=os.environ['ACCESS_KEY'], secret=os.environ['SECRET_KEY'])\n",
    "\n",
    "print(len(fs.ls(BUCKET + '/DUMP_INTEGRATION_JSON')))\n",
    "      \n",
    "for graph in fs.ls(BUCKET + '/DUMP_INTEGRATION_JSON'):\n",
    "    if '.json' in graph:\n",
    "        with fs.open(graph, mode=\"rb\") as file_in:\n",
    "            read_data = file_in.read()\n",
    "            page_datasets = DatasetReader(read_data).get_data()\n",
    "            logging.debug(\"Fichier: \", graph, \"- Nombre de datasets : \", len(datasets))\n",
    "            datasets.append(\n",
    "                page_datasets\n",
    "            )\n",
    "            iteration += 1\n",
    "\n",
    "logging.debug(\"Nombre de pages traitées : \", iteration)\n",
    "data = pd.concat(datasets)\n",
    "\n",
    "display(data)"
   ]
  },
  {
   "cell_type": "markdown",
   "id": "f0c068bb-fbf2-41ad-b179-426fb6346d3d",
   "metadata": {},
   "source": [
    "## Attribution des univers"
   ]
  },
  {
   "cell_type": "code",
   "execution_count": null,
   "id": "07ee3f73-f07d-4e41-8b62-fc61e7d05fc4",
   "metadata": {},
   "outputs": [],
   "source": [
    "def create_universe_pprn(row):\n",
    "    \"\"\"\n",
    "    For a specific row, return if the element is considered to be a part of the 'PPRN' universe\n",
    "    \"\"\"\n",
    "    for elem in ['title', 'description']:\n",
    "        if 'pprn' in row[elem].lower():\n",
    "            return 'PPRN'\n",
    "        elif 'prevention des risques' in unidecode(row[elem]).lower():\n",
    "            return 'PPRN'\n",
    "    return None"
   ]
  },
  {
   "cell_type": "code",
   "execution_count": null,
   "id": "be64a15c-161e-49a4-818c-a0cac803cdbe",
   "metadata": {
    "scrolled": true
   },
   "outputs": [],
   "source": [
    "data['univers'] = data.apply(create_universe_pprn, axis=1)"
   ]
  },
  {
   "cell_type": "markdown",
   "id": "e9ed6d1d-754e-438b-bfc7-24184c48b61c",
   "metadata": {},
   "source": [
    "2357 PPRN avec filtre title = PPRN \n",
    "\n",
    "3985 PPRN en ajoutant le filtre title = 'prevention des risques' (independament des accents et majuscules) \n",
    "\n",
    "5122 PPRN en appliquant également ces filtre au champ 'description'"
   ]
  },
  {
   "cell_type": "markdown",
   "id": "0b88c35a-c13c-4e60-a412-a02887b503d3",
   "metadata": {},
   "source": [
    "## Export vers POSTGRES"
   ]
  },
  {
   "cell_type": "code",
   "execution_count": null,
   "id": "2c75901a-e254-4051-a777-0ca9f8d90b57",
   "metadata": {},
   "outputs": [],
   "source": [
    "from sqlalchemy import create_engine\n",
    "engine = create_engine(f\"postgresql+psycopg2://{os.environ['POSTGRES_USER']}:{os.environ['POSTGRES_PASSWORD']}@{os.environ['POSTGRES_URL']}:{os.environ['POSTGRES_PORT']}/{os.environ['POSTGRES_DB']}\")\n",
    "\n",
    "with engine.begin() as connection:\n",
    "    data.to_sql(name='datasets', con=connection, if_exists='replace', index=False)"
   ]
  },
  {
   "cell_type": "markdown",
   "id": "ef7da869-f5cd-45ed-8966-9a8f7137bfaf",
   "metadata": {},
   "source": [
    "## Création du describe() en ligne"
   ]
  },
  {
   "cell_type": "code",
   "execution_count": null,
   "id": "f0565094-607f-4c6a-bf01-744223377fcd",
   "metadata": {},
   "outputs": [],
   "source": [
    "import sweetviz as sv\n",
    "\n",
    "my_report = sv.analyze(data)\n",
    "my_report.show_html() # Default arguments will generate to \"SWEETVIZ_REPORT.html\""
   ]
  },
  {
   "cell_type": "markdown",
   "id": "aca4b1c6-139a-431d-bc63-0872e126ea8a",
   "metadata": {},
   "source": [
    "## Dump in s3 as parquet (beta)"
   ]
  },
  {
   "cell_type": "code",
   "execution_count": null,
   "id": "73abc380-629f-44ba-9d17-b2eb76957420",
   "metadata": {},
   "outputs": [],
   "source": [
    "data.to_parquet(f's3://{BUCKET}/DUMP_INTEGRATION_JSON/dump.parquet')\n",
    "\n",
    "import boto3\n",
    "s3 = boto3.client(\"s3\",endpoint_url = 'https://'+'minio.lab.sspcloud.fr',\n",
    "                  aws_access_key_id= 'CZXRRD5MEOM6KQJRZQL4', \n",
    "                  aws_secret_access_key= 'ZxPppMmnYMBR+u31RtFnBa3DtWy+y1s80zclUpQz', \n",
    "                  aws_session_token = 'eyJhbGciOiJIUzUxMiIsInR5cCI6IkpXVCJ9.eyJhY2Nlc3NLZXkiOiJDWlhSUkQ1TUVPTTZLUUpSWlFMNCIsImFsbG93ZWQtb3JpZ2lucyI6WyIqIl0sImF1ZCI6WyJtaW5pby1kYXRhbm9kZSIsIm9ueXhpYSIsImFjY291bnQiXSwiYXV0aF90aW1lIjoxNjk5NDMxMTcxLCJhenAiOiJvbnl4aWEiLCJlbWFpbCI6InF1ZW50aW4ubG9yaWRhbnRAbXVsdGkuY29vcCIsImVtYWlsX3ZlcmlmaWVkIjp0cnVlLCJleHAiOjE3MDAyMTIzNDUsImZhbWlseV9uYW1lIjoiTG9yaWRhbnQiLCJnaXZlbl9uYW1lIjoiUXVlbnRpbiIsImdyb3VwcyI6WyJlY29sYWItYWN0aW9uLXF1YWxpdGUiXSwiaWF0IjoxNzAwMTI1OTQ1LCJpc3MiOiJodHRwczovL2F1dGgubGFiLnNzcGNsb3VkLmZyL2F1dGgvcmVhbG1zL3NzcGNsb3VkIiwianRpIjoiMjkxZGJhODItOWYyMi00ZjhjLTgyNzItMzUzODEyZmJiMGUwIiwibmFtZSI6IlF1ZW50aW4gTG9yaWRhbnQiLCJwb2xpY3kiOiJzdHNvbmx5IiwicHJlZmVycmVkX3VzZXJuYW1lIjoicXVlbnRpbmxvcmlkYW50IiwicmVhbG1fYWNjZXNzIjp7InJvbGVzIjpbIm9mZmxpbmVfYWNjZXNzIiwidW1hX2F1dGhvcml6YXRpb24iLCJkZWZhdWx0LXJvbGVzLXNzcGNsb3VkIl19LCJyZXNvdXJjZV9hY2Nlc3MiOnsiYWNjb3VudCI6eyJyb2xlcyI6WyJtYW5hZ2UtYWNjb3VudCIsIm1hbmFnZS1hY2NvdW50LWxpbmtzIiwidmlldy1wcm9maWxlIl19fSwic2NvcGUiOiJvcGVuaWQgcHJvZmlsZSBncm91cHMgZW1haWwiLCJzZXNzaW9uUG9saWN5IjoiZXlKV1pYSnphVzl1SWpvaU1qQXhNaTB4TUMweE55SXNJbE4wWVhSbGJXVnVkQ0k2VzNzaVJXWm1aV04wSWpvaVFXeHNiM2NpTENKQlkzUnBiMjRpT2xzaWN6TTZLaUpkTENKU1pYTnZkWEpqWlNJNld5SmhjbTQ2WVhkek9uTXpPam82Y0hKdmFtVjBMV1ZqYjJ4aFlpMWhZM1JwYjI0dGNYVmhiR2wwWlNJc0ltRnlianBoZDNNNmN6TTZPanB3Y205cVpYUXRaV052YkdGaUxXRmpkR2x2YmkxeGRXRnNhWFJsTHlvaVhYMHNleUpGWm1abFkzUWlPaUpCYkd4dmR5SXNJa0ZqZEdsdmJpSTZXeUp6TXpwTWFYTjBRblZqYTJWMElsMHNJbEpsYzI5MWNtTmxJanBiSW1GeWJqcGhkM002Y3pNNk9qb3FJbDBzSWtOdmJtUnBkR2x2YmlJNmV5SlRkSEpwYm1kTWFXdGxJanA3SW5Nek9uQnlaV1pwZUNJNkltUnBabVoxYzJsdmJpOHFJbjE5ZlN4N0lrVm1abVZqZENJNklrRnNiRzkzSWl3aVFXTjBhVzl1SWpwYkluTXpPa2RsZEU5aWFtVmpkQ0pkTENKU1pYTnZkWEpqWlNJNld5SmhjbTQ2WVhkek9uTXpPam82S2k5a2FXWm1kWE5wYjI0dktpSmRmVjE5Iiwic2Vzc2lvbl9zdGF0ZSI6ImNlZTBhOGYxLTA4NjMtNGQ5OC1hZDNiLWQ1MWQ4N2I4Zjg4YSIsInNpZCI6ImNlZTBhOGYxLTA4NjMtNGQ5OC1hZDNiLWQ1MWQ4N2I4Zjg4YSIsInN1YiI6Ijg1NjQzNjFmLWQ3MTctNDhhYy04YTA2LTdlZjY5ZTlmZTRiMCIsInR5cCI6IkJlYXJlciJ9.KV-DgYdDBOA6WYZuIj5S_772qIGXKJKz_qyOz_YWcpGRrbp2BVEcQ2EDUZvoxDHbWHQQGo3F8bxDf4nOADJhdg')\n",
    "with open(\"dump.parquet\", \"rb\") as f:\n",
    "    s3.upload_fileobj(f, BUCKET, \"dump.parquet\")"
   ]
  }
 ],
 "metadata": {
  "kernelspec": {
   "display_name": "Python 3 (ipykernel)",
   "language": "python",
   "name": "python3"
  },
  "language_info": {
   "codemirror_mode": {
    "name": "ipython",
    "version": 3
   },
   "file_extension": ".py",
   "mimetype": "text/x-python",
   "name": "python",
   "nbconvert_exporter": "python",
   "pygments_lexer": "ipython3",
   "version": "3.10.13"
  }
 },
 "nbformat": 4,
 "nbformat_minor": 5
}
