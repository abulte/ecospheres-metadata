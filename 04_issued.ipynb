{
 "cells": [
  {
   "attachments": {},
   "cell_type": "markdown",
   "metadata": {
    "slideshow": {
     "slide_type": "slide"
    }
   },
   "source": [
    "## Issued\n",
    "\n",
    "**Observations**  \n",
    "-Remplissage  \n",
    "-Distribution des datasets par année de publication  \n",
    "-Distribution des datasets par mois de publication pour l'année 2022  "
   ]
  },
  {
   "cell_type": "code",
   "execution_count": null,
   "metadata": {},
   "outputs": [],
   "source": [
    "import pandas as pd\n",
    "import plotly\n",
    "import plotly.express as px\n",
    "\n",
    "from utils import wrapper_engine, date_string_to_datetime\n",
    "engine = wrapper_engine('config.ini')\n",
    "\n",
    "import custom_settings\n",
    "from itables import show\n",
    "custom_settings.apply_itable_custom_settings()"
   ]
  },
  {
   "cell_type": "code",
   "execution_count": null,
   "metadata": {
    "slideshow": {
     "slide_type": "skip"
    }
   },
   "outputs": [],
   "source": [
    "# Load data\n",
    "with engine.connect() as connection:\n",
    "    package_extra = pd.read_sql_table(\n",
    "        table_name=\"package_extra\", \n",
    "        con=connection,\n",
    "        schema=\"public\",\n",
    "        )\n",
    "    \n",
    "issued = package_extra[package_extra[\"key\"]==\"issued\"].copy(deep=True)\n",
    "issued[\"publication_year\"] = issued[\"value\"].apply(lambda date: date_string_to_datetime(date).year).astype(str)"
   ]
  },
  {
   "attachments": {},
   "cell_type": "markdown",
   "metadata": {
    "slideshow": {
     "slide_type": "-"
    }
   },
   "source": [
    "**Nombre de datasets avec la métadonnée 'issued'**"
   ]
  },
  {
   "cell_type": "code",
   "execution_count": null,
   "metadata": {
    "slideshow": {
     "slide_type": "-"
    }
   },
   "outputs": [],
   "source": [
    "show(issued[[\"package_id\", \"publication_year\"]].rename(columns={\"package_id\":\"datasets\"}).describe())"
   ]
  },
  {
   "cell_type": "code",
   "execution_count": null,
   "metadata": {
    "slideshow": {
     "slide_type": "subslide"
    }
   },
   "outputs": [],
   "source": [
    "plotly.offline.init_notebook_mode(connected=True)\n",
    "fig = px.histogram(issued.sort_values(by=[\"publication_year\"]), \n",
    "                   x=\"publication_year\",\n",
    "                   template=\"seaborn\",\n",
    "                   labels={\"publication_year\": \"Année de publication\",},\n",
    "                   color_discrete_sequence=['#000091'])\n",
    "fig.update_layout(bargap=0.2,\n",
    "                  yaxis_title=\"Nombre pour l'année 2022\")\n",
    "fig.update_traces(opacity=0.8)\n",
    "plotly.offline.iplot(fig)"
   ]
  },
  {
   "cell_type": "code",
   "execution_count": null,
   "metadata": {
    "slideshow": {
     "slide_type": "subslide"
    }
   },
   "outputs": [],
   "source": [
    "issued[\"publication_month\"] = issued[\"value\"].apply(lambda date: date_string_to_datetime(date).strftime(\"%m\"))\n",
    "\n",
    "plotly.offline.init_notebook_mode(connected=True)\n",
    "fig = px.histogram(issued[issued[\"publication_year\"]==\"2022\"].sort_values(by=[\"publication_month\"]), \n",
    "                   x=\"publication_month\",\n",
    "                   template=\"seaborn\",\n",
    "                   labels={\"publication_month\": \"Mois de publication\",},\n",
    "                   color_discrete_sequence=['#000091'])\n",
    "fig.update_layout(bargap=0.2,\n",
    "                  yaxis_title=\"Nombre pour l'année 2022\")\n",
    "fig.update_traces(opacity=0.8)\n",
    "plotly.offline.iplot(fig)"
   ]
  }
 ],
 "metadata": {
  "kernelspec": {
   "display_name": "env",
   "language": "python",
   "name": "python3"
  },
  "language_info": {
   "codemirror_mode": {
    "name": "ipython",
    "version": 3
   },
   "file_extension": ".py",
   "mimetype": "text/x-python",
   "name": "python",
   "nbconvert_exporter": "python",
   "pygments_lexer": "ipython3",
   "version": "3.10.10"
  },
  "orig_nbformat": 4
 },
 "nbformat": 4,
 "nbformat_minor": 2
}
