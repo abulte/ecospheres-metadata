{
 "cells": [
  {
   "attachments": {},
   "cell_type": "markdown",
   "metadata": {
    "slideshow": {
     "slide_type": "slide"
    }
   },
   "source": [
    "## CRS\n",
    "\n",
    "**Observations**  \n",
    "-Taux de remplissage  \n",
    "-Distribution des datasets par EPSG\n"
   ]
  },
  {
   "cell_type": "code",
   "execution_count": 1,
   "metadata": {
    "slideshow": {
     "slide_type": "skip"
    }
   },
   "outputs": [],
   "source": [
    "import pandas as pd\n",
    "from utils import wrapper_engine, get_value_from_json_serialization, head_as_table\n",
    "\n",
    "engine = wrapper_engine('config.ini')\n",
    "\n",
    "# Load data\n",
    "with engine.connect() as connection:    \n",
    "    package_extra = pd.read_sql_table(\n",
    "        table_name=\"package_extra\", \n",
    "        con=connection,\n",
    "        schema=\"public\",\n",
    "        )\n",
    "    \n",
    "package_extra = package_extra[package_extra.key.isin([\"crs\"])].sort_values(by=[\"package_id\", \"key\"])\n"
   ]
  },
  {
   "attachments": {},
   "cell_type": "markdown",
   "metadata": {
    "slideshow": {
     "slide_type": "-"
    }
   },
   "source": [
    "**Nombre de datasets avec la métadonnée CRS**"
   ]
  },
  {
   "cell_type": "code",
   "execution_count": 2,
   "metadata": {
    "slideshow": {
     "slide_type": "-"
    }
   },
   "outputs": [
    {
     "data": {
      "text/markdown": [
       "**tableau complet :** 4 lignes × 2 colonnes"
      ],
      "text/plain": [
       "<IPython.core.display.Markdown object>"
      ]
     },
     "metadata": {},
     "output_type": "display_data"
    },
    {
     "data": {
      "text/html": [
       "<style type=\"text/css\">\n",
       "</style>\n",
       "<table id=\"T_5a192\">\n",
       "  <thead>\n",
       "    <tr>\n",
       "      <th id=\"T_5a192_level0_col0\" class=\"col_heading level0 col0\" >index</th>\n",
       "      <th id=\"T_5a192_level0_col1\" class=\"col_heading level0 col1\" >package_id</th>\n",
       "    </tr>\n",
       "  </thead>\n",
       "  <tbody>\n",
       "    <tr>\n",
       "      <td id=\"T_5a192_row0_col0\" class=\"data row0 col0\" >count</td>\n",
       "      <td id=\"T_5a192_row0_col1\" class=\"data row0 col1\" >21487</td>\n",
       "    </tr>\n",
       "    <tr>\n",
       "      <td id=\"T_5a192_row1_col0\" class=\"data row1 col0\" >unique</td>\n",
       "      <td id=\"T_5a192_row1_col1\" class=\"data row1 col1\" >21487</td>\n",
       "    </tr>\n",
       "    <tr>\n",
       "      <td id=\"T_5a192_row2_col0\" class=\"data row2 col0\" >top</td>\n",
       "      <td id=\"T_5a192_row2_col1\" class=\"data row2 col1\" >00007ee6-8353-4f07-bd0c-e5ee0fabb0cb</td>\n",
       "    </tr>\n",
       "    <tr>\n",
       "      <td id=\"T_5a192_row3_col0\" class=\"data row3 col0\" >freq</td>\n",
       "      <td id=\"T_5a192_row3_col1\" class=\"data row3 col1\" >1</td>\n",
       "    </tr>\n",
       "  </tbody>\n",
       "</table>\n"
      ],
      "text/plain": [
       "<pandas.io.formats.style.Styler at 0x1e2cfa5d180>"
      ]
     },
     "metadata": {},
     "output_type": "display_data"
    }
   ],
   "source": [
    "head_as_table(package_extra[[\"package_id\"]].describe().reset_index(), n_rows=5)"
   ]
  },
  {
   "cell_type": "code",
   "execution_count": 12,
   "metadata": {
    "slideshow": {
     "slide_type": "skip"
    }
   },
   "outputs": [],
   "source": [
    "package_extra = pd.pivot_table(package_extra, index=[\"package_id\"], values=[\"value\"], columns=[\"key\"], aggfunc='first')\n",
    "package_extra = package_extra.droplevel(0, axis=1).reset_index().rename_axis(columns=None)\n",
    "\n",
    "# EPSG value - alternative approach to the split from the URI: reading the EPSG from the XML file (see utils.get_value_from_xml)\n",
    "# When multiple EPSG values are available (seen only once), take first option\n",
    "package_extra[\"EPSG\"] = package_extra[\"crs\"].apply(lambda x: get_value_from_json_serialization(x, \"uri\")).apply(lambda x:  x[0].split('/')[-1] if len(x) > 0 else 'Unknown')"
   ]
  },
  {
   "cell_type": "code",
   "execution_count": 13,
   "metadata": {
    "slideshow": {
     "slide_type": "subslide"
    }
   },
   "outputs": [
    {
     "data": {
      "text/html": [
       "<style type=\"text/css\">\n",
       "</style>\n",
       "<table id=\"T_e7f83\">\n",
       "  <thead>\n",
       "  </thead>\n",
       "  <tbody>\n",
       "    <tr>\n",
       "      <th id=\"T_e7f83_level0_row0\" class=\"row_heading level0 row0\" >EPSG</th>\n",
       "      <td id=\"T_e7f83_row0_col0\" class=\"data row0 col0\" >2154</td>\n",
       "      <td id=\"T_e7f83_row0_col1\" class=\"data row0 col1\" >4171</td>\n",
       "      <td id=\"T_e7f83_row0_col2\" class=\"data row0 col2\" >4326</td>\n",
       "      <td id=\"T_e7f83_row0_col3\" class=\"data row0 col3\" >27572</td>\n",
       "      <td id=\"T_e7f83_row0_col4\" class=\"data row0 col4\" >3857</td>\n",
       "      <td id=\"T_e7f83_row0_col5\" class=\"data row0 col5\" >4463</td>\n",
       "      <td id=\"T_e7f83_row0_col6\" class=\"data row0 col6\" >27561</td>\n",
       "      <td id=\"T_e7f83_row0_col7\" class=\"data row0 col7\" >27573</td>\n",
       "      <td id=\"T_e7f83_row0_col8\" class=\"data row0 col8\" >2972</td>\n",
       "      <td id=\"T_e7f83_row0_col9\" class=\"data row0 col9\" >3947</td>\n",
       "      <td id=\"T_e7f83_row0_col10\" class=\"data row0 col10\" >3948</td>\n",
       "      <td id=\"T_e7f83_row0_col11\" class=\"data row0 col11\" >3950</td>\n",
       "    </tr>\n",
       "    <tr>\n",
       "      <th id=\"T_e7f83_level0_row1\" class=\"row_heading level0 row1\" >Datasets [count]</th>\n",
       "      <td id=\"T_e7f83_row1_col0\" class=\"data row1 col0\" >21243</td>\n",
       "      <td id=\"T_e7f83_row1_col1\" class=\"data row1 col1\" >196</td>\n",
       "      <td id=\"T_e7f83_row1_col2\" class=\"data row1 col2\" >28</td>\n",
       "      <td id=\"T_e7f83_row1_col3\" class=\"data row1 col3\" >7</td>\n",
       "      <td id=\"T_e7f83_row1_col4\" class=\"data row1 col4\" >3</td>\n",
       "      <td id=\"T_e7f83_row1_col5\" class=\"data row1 col5\" >3</td>\n",
       "      <td id=\"T_e7f83_row1_col6\" class=\"data row1 col6\" >2</td>\n",
       "      <td id=\"T_e7f83_row1_col7\" class=\"data row1 col7\" >1</td>\n",
       "      <td id=\"T_e7f83_row1_col8\" class=\"data row1 col8\" >1</td>\n",
       "      <td id=\"T_e7f83_row1_col9\" class=\"data row1 col9\" >1</td>\n",
       "      <td id=\"T_e7f83_row1_col10\" class=\"data row1 col10\" >1</td>\n",
       "      <td id=\"T_e7f83_row1_col11\" class=\"data row1 col11\" >1</td>\n",
       "    </tr>\n",
       "  </tbody>\n",
       "</table>\n"
      ],
      "text/plain": [
       "<pandas.io.formats.style.Styler at 0x1864a56a020>"
      ]
     },
     "execution_count": 13,
     "metadata": {},
     "output_type": "execute_result"
    }
   ],
   "source": [
    "package_extra[[\"EPSG\", \"package_id\"]].rename(columns={\"package_id\":\"Datasets [count]\"}).groupby([\"EPSG\"], as_index=False).count().sort_values(by=[\"Datasets [count]\"], ascending=False).transpose().style.hide(axis=\"columns\")"
   ]
  },
  {
   "attachments": {},
   "cell_type": "markdown",
   "metadata": {
    "slideshow": {
     "slide_type": "-"
    }
   },
   "source": [
    "\n",
    "\n",
    "|EPSG | Name |Area of use | Unit | Accuracy |\n",
    "|:---:|---|---|:---:|:---:|\n",
    "|[2154](https://epsg.io/2154) | RGF93 v1 / Lambert-93 -- France | France - onshore and offshore, mainland and Corsica (France métropolitaine including Corsica). | metre | 1.0m |\n",
    "|[27561](https://epsg.io/27561) | NTF (Paris) / Lambert Nord France | France mainland onshore north of 53.5 grads North (48°09'N). | metre | 2.0m |\n",
    "|[27572](https://epsg.io/27572) | NTF (Paris) / Lambert zone II | France mainland onshore between 50.5 grads and 53.5 grads North (45°27'N to 48°09'N). Also used over all onshore mainland France. | metre | 2.0m |\n",
    "|[27573](https://epsg.io/27573) | NTF (Paris) / Lambert zone III | France - mainland onshore south of 50.5 grads North (45°27'N). | metre | 2.0m |\n",
    "|[2972](https://epsg.io/2972) | RGFG95 / UTM zone 22N | French Guiana - east of 54°W, onshore and offshore. | metre | 1.0m|\n",
    "|[3857](https://epsg.io/3857) | WGS 84 / Pseudo-Mercator -- Spherical Mercator, Google Maps, OpenStreetMap, Bing, ArcGIS, ESRI | World between 85.06°S and 85.06°N. | metre | up to 43km |\n",
    "|[3947](https://epsg.io/3947) | RGF93 v1 / CC47 | France - mainland onshore between 46°N and 48°N. | metre | 1.0m |\n",
    "|[3948](https://epsg.io/3948)  | RGF93 v1 / CC48 | France - mainland onshore between 47°N and 49°N. | metre | 1.0m |\n",
    "|[3950](https://epsg.io/3950) |RGF93 v1 / CC50 | France - mainland onshore north of 49°N. | metre | 1.0m |\n",
    "|[4171](https://epsg.io/4171) |RGF93 v1 | France - onshore and offshore, mainland and Corsica (France métropolitaine including Corsica). | degree | - |\n",
    "|[4326](https://epsg.io/4326) | WGS 84 -- WGS84 - World Geodetic System 1984, used in GPS | World | degree | - |\n",
    "|[4463](https://epsg.io/4463) | RGSPM06 | St Pierre and Miquelon - onshore and offshore. | degree | - |"
   ]
  }
 ],
 "metadata": {
  "kernelspec": {
   "display_name": "env",
   "language": "python",
   "name": "python3"
  },
  "language_info": {
   "codemirror_mode": {
    "name": "ipython",
    "version": 3
   },
   "file_extension": ".py",
   "mimetype": "text/x-python",
   "name": "python",
   "nbconvert_exporter": "python",
   "pygments_lexer": "ipython3",
   "version": "3.10.10"
  },
  "orig_nbformat": 4
 },
 "nbformat": 4,
 "nbformat_minor": 2
}
