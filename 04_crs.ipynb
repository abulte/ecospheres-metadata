{
 "cells": [
  {
   "attachments": {},
   "cell_type": "markdown",
   "metadata": {
    "slideshow": {
     "slide_type": "slide"
    }
   },
   "source": [
    "## CRS\n",
    "\n",
    "**Observations**  \n",
    "-Taux de remplissage  \n",
    "-Distribution des datasets par EPSG\n"
   ]
  },
  {
   "cell_type": "code",
   "execution_count": null,
   "metadata": {
    "slideshow": {
     "slide_type": "skip"
    }
   },
   "outputs": [],
   "source": [
    "import pandas as pd\n",
    "\n",
    "from utils import wrapper_engine, get_value_from_json_serialization\n",
    "engine = wrapper_engine('config.ini')\n",
    "\n",
    "import custom_settings\n",
    "from itables import show\n",
    "custom_settings.apply_itable_custom_settings()"
   ]
  },
  {
   "cell_type": "code",
   "execution_count": null,
   "metadata": {
    "slideshow": {
     "slide_type": "skip"
    }
   },
   "outputs": [],
   "source": [
    "# Load data\n",
    "with engine.connect() as connection:    \n",
    "    package_extra = pd.read_sql_table(\n",
    "        table_name=\"package_extra\", \n",
    "        con=connection,\n",
    "        schema=\"public\",\n",
    "        )\n",
    "    \n",
    "package_extra = package_extra[package_extra.key.isin([\"crs\"])].sort_values(by=[\"package_id\", \"key\"])"
   ]
  },
  {
   "attachments": {},
   "cell_type": "markdown",
   "metadata": {
    "slideshow": {
     "slide_type": "-"
    }
   },
   "source": [
    "**Nombre de datasets avec la métadonnée CRS**"
   ]
  },
  {
   "cell_type": "code",
   "execution_count": null,
   "metadata": {
    "slideshow": {
     "slide_type": "-"
    }
   },
   "outputs": [],
   "source": [
    "show(package_extra[[\"package_id\", \"value\"]].rename(columns={\"package_id\":\"datasets\", \"value\":\"crs\"}).describe())"
   ]
  },
  {
   "cell_type": "code",
   "execution_count": null,
   "metadata": {
    "slideshow": {
     "slide_type": "skip"
    }
   },
   "outputs": [],
   "source": [
    "package_extra = pd.pivot_table(package_extra, index=[\"package_id\"], values=[\"value\"], columns=[\"key\"], aggfunc='first')\n",
    "package_extra = package_extra.droplevel(0, axis=1).reset_index().rename_axis(columns=None)\n",
    "\n",
    "# EPSG value - alternative approach to the split from the URI: reading the EPSG from the XML file (see utils.get_value_from_xml)\n",
    "# When multiple EPSG values are available (seen only once), take first option\n",
    "package_extra[\"EPSG\"] = package_extra[\"crs\"].apply(lambda x: get_value_from_json_serialization(x, \"uri\")).apply(lambda x:  x[0].split('/')[-1] if len(x) > 0 else 'Unknown')"
   ]
  },
  {
   "cell_type": "code",
   "execution_count": null,
   "metadata": {
    "slideshow": {
     "slide_type": "subslide"
    }
   },
   "outputs": [],
   "source": [
    "package_extra[[\"EPSG\", \"package_id\"]].rename(columns={\"package_id\":\"Datasets [count]\"}).groupby([\"EPSG\"], as_index=False).count().sort_values(by=[\"Datasets [count]\"], ascending=False).transpose().style.hide(axis=\"columns\")"
   ]
  },
  {
   "attachments": {},
   "cell_type": "markdown",
   "metadata": {
    "slideshow": {
     "slide_type": "-"
    }
   },
   "source": [
    "\n",
    "\n",
    "|EPSG | Name |Area of use | Unit | Accuracy |\n",
    "|:---:|---|---|:---:|:---:|\n",
    "|[2154](https://epsg.io/2154) | RGF93 v1 / Lambert-93 -- France | France - onshore and offshore, mainland and Corsica (France métropolitaine including Corsica). | metre | 1.0m |\n",
    "|[27561](https://epsg.io/27561) | NTF (Paris) / Lambert Nord France | France mainland onshore north of 53.5 grads North (48°09'N). | metre | 2.0m |\n",
    "|[27572](https://epsg.io/27572) | NTF (Paris) / Lambert zone II | France mainland onshore between 50.5 grads and 53.5 grads North (45°27'N to 48°09'N). Also used over all onshore mainland France. | metre | 2.0m |\n",
    "|[27573](https://epsg.io/27573) | NTF (Paris) / Lambert zone III | France - mainland onshore south of 50.5 grads North (45°27'N). | metre | 2.0m |\n",
    "|[2972](https://epsg.io/2972) | RGFG95 / UTM zone 22N | French Guiana - east of 54°W, onshore and offshore. | metre | 1.0m|\n",
    "|[3857](https://epsg.io/3857) | WGS 84 / Pseudo-Mercator -- Spherical Mercator, Google Maps, OpenStreetMap, Bing, ArcGIS, ESRI | World between 85.06°S and 85.06°N. | metre | up to 43km |\n",
    "|[3947](https://epsg.io/3947) | RGF93 v1 / CC47 | France - mainland onshore between 46°N and 48°N. | metre | 1.0m |\n",
    "|[3948](https://epsg.io/3948)  | RGF93 v1 / CC48 | France - mainland onshore between 47°N and 49°N. | metre | 1.0m |\n",
    "|[3950](https://epsg.io/3950) |RGF93 v1 / CC50 | France - mainland onshore north of 49°N. | metre | 1.0m |\n",
    "|[4171](https://epsg.io/4171) |RGF93 v1 | France - onshore and offshore, mainland and Corsica (France métropolitaine including Corsica). | degree | - |\n",
    "|[4326](https://epsg.io/4326) | WGS 84 -- WGS84 - World Geodetic System 1984, used in GPS | World | degree | - |\n",
    "|[4463](https://epsg.io/4463) | RGSPM06 | St Pierre and Miquelon - onshore and offshore. | degree | - |"
   ]
  }
 ],
 "metadata": {
  "kernelspec": {
   "display_name": "env",
   "language": "python",
   "name": "python3"
  },
  "language_info": {
   "codemirror_mode": {
    "name": "ipython",
    "version": 3
   },
   "file_extension": ".py",
   "mimetype": "text/x-python",
   "name": "python",
   "nbconvert_exporter": "python",
   "pygments_lexer": "ipython3",
   "version": "3.10.10"
  },
  "orig_nbformat": 4
 },
 "nbformat": 4,
 "nbformat_minor": 2
}
