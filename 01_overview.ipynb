{
 "cells": [
  {
   "cell_type": "markdown",
   "metadata": {
    "slideshow": {
     "slide_type": "slide"
    }
   },
   "source": [
    "## Taux de remplissage"
   ]
  },
  {
   "cell_type": "code",
   "execution_count": null,
   "metadata": {
    "slideshow": {
     "slide_type": "skip"
    }
   },
   "outputs": [],
   "source": [
    "import pandas as pd\n",
    "from utils.utils import wrapper_engine\n",
    "\n",
    "engine = wrapper_engine('config.ini')\n",
    "\n",
    "# Load data\n",
    "with engine.connect() as connection:\n",
    "    package = pd.read_sql_table(\n",
    "        table_name=\"package\", \n",
    "        con=connection,\n",
    "        schema=\"public\",\n",
    "        )\n",
    "    \n",
    "    package_extra = pd.read_sql_table(\n",
    "        table_name=\"package_extra\", \n",
    "        con=connection,\n",
    "        schema=\"public\",\n",
    "        )"
   ]
  },
  {
   "cell_type": "code",
   "execution_count": null,
   "metadata": {
    "slideshow": {
     "slide_type": "skip"
    }
   },
   "outputs": [],
   "source": [
    "# See metadata: rights\n",
    "empty_metadata = [\n",
    "    '{\"fr\": [], \"en\": []}',\n",
    "    '{}'\n",
    "]\n",
    "\n",
    "keys_to_drop = [\n",
    "    'harvest_object_id',\n",
    "    'harvest_source_id',\n",
    "    'harvest_source_title'\n",
    "]\n",
    "\n",
    "fill_rate = package_extra[[\"key\", \"value\", \"package_id\"]].copy(deep=True)\n",
    "\n",
    "fill_rate[\"value\"] = fill_rate[\"value\"].apply(lambda x: None if x in empty_metadata else x)\n",
    "fill_rate.dropna(inplace=True)\n",
    "\n",
    "fill_rate = fill_rate[~fill_rate[\"key\"].isin(keys_to_drop)]\n",
    "\n",
    "fill_rate = fill_rate.groupby(\"key\", as_index=False).count()\n",
    "fill_rate[\"package_id\"] = fill_rate[\"package_id\"].apply(lambda x: x/len(package[package[\"type\"]=='dataset'])*100)"
   ]
  },
  {
   "cell_type": "code",
   "execution_count": null,
   "metadata": {
    "slideshow": {
     "slide_type": "-"
    }
   },
   "outputs": [],
   "source": [
    "import plotly\n",
    "import plotly.express as px\n",
    "\n",
    "plotly.offline.init_notebook_mode(connected=True)\n",
    "fig = px.bar(fill_rate.sort_values(by=[\"package_id\", \"key\"], ascending=False),\n",
    "             x='key', \n",
    "             y='package_id',\n",
    "             color_discrete_sequence=['#000091'],\n",
    "             labels={\"key\": \"Métadonnée\",\n",
    "                    \"package_id\": \"Remplissage [%]\"})\n",
    "fig.add_hline(\n",
    "    y=int(fill_rate[\"package_id\"].median()), \n",
    "    line_width=3, \n",
    "    line_dash=\"dash\", \n",
    "    line_color=\"red\",\n",
    "    annotation_text=\"médiane\",\n",
    "    annotation_textangle = 0)\n",
    "fig.update_layout(margin=dict(l=20, r=20, t=20, b=20))\n",
    "plotly.offline.iplot(fig)"
   ]
  },
  {
   "cell_type": "code",
   "execution_count": null,
   "metadata": {
    "slideshow": {
     "slide_type": "skip"
    }
   },
   "outputs": [],
   "source": [
    "# Load data\n",
    "with engine.connect() as connection:\n",
    "    group = pd.read_sql_table(\n",
    "        table_name=\"group\", \n",
    "        con=connection,\n",
    "        schema=\"public\",\n",
    "        ).rename(columns={\"id\":\"id_group\"})\n",
    "    \n",
    "datasets_per_group = group[[\"id_group\", \"title\"]].merge(package.query(\"type == 'dataset'\")[[\"id\", \"owner_org\"]], how=\"left\", left_on=\"id_group\", right_on=\"owner_org\").groupby(by=[\"title\"], as_index=False).count()\n",
    "datasets_per_group.sort_values(by=[\"owner_org\", \"title\"], ascending=False, inplace=True)"
   ]
  },
  {
   "cell_type": "code",
   "execution_count": null,
   "metadata": {
    "slideshow": {
     "slide_type": "subslide"
    }
   },
   "outputs": [],
   "source": [
    "plotly.offline.init_notebook_mode(connected=True)\n",
    "fig = px.bar(datasets_per_group,\n",
    "             x='title', \n",
    "             y='owner_org',\n",
    "             color_discrete_sequence=['#000091'],\n",
    "             labels={\"title\": \"Organisation\",\n",
    "                    \"owner_org\": \"Nombre de datasets\"})\n",
    "fig.add_hline(\n",
    "    y=int(datasets_per_group[\"owner_org\"].median()), \n",
    "    line_width=3, \n",
    "    line_dash=\"dash\", \n",
    "    line_color=\"red\",\n",
    "    annotation_text=\"médiane\",\n",
    "    annotation_textangle = 0)\n",
    "fig.update_layout(margin=dict(l=20, r=20, t=20, b=20))\n",
    "plotly.offline.iplot(fig)"
   ]
  }
 ],
 "metadata": {
  "kernelspec": {
   "display_name": "env",
   "language": "python",
   "name": "python3"
  },
  "language_info": {
   "codemirror_mode": {
    "name": "ipython",
    "version": 3
   },
   "file_extension": ".py",
   "mimetype": "text/x-python",
   "name": "python",
   "nbconvert_exporter": "python",
   "pygments_lexer": "ipython3",
   "version": "3.10.10"
  },
  "orig_nbformat": 4
 },
 "nbformat": 4,
 "nbformat_minor": 2
}
