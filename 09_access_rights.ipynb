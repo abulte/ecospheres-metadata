{
 "cells": [
  {
   "cell_type": "markdown",
   "metadata": {},
   "source": [
    "## Access Rights\n",
    "\n",
    "**Observations**  \n",
    "-Identification de données à accès restreint"
   ]
  },
  {
   "cell_type": "code",
   "execution_count": 1,
   "metadata": {},
   "outputs": [],
   "source": [
    "import pandas as pd\n",
    "from utils import wrapper_engine, get_value_from_json_serialization\n",
    "\n",
    "engine = wrapper_engine('config.ini')\n",
    "\n",
    "# Load data\n",
    "with engine.connect() as connection:\n",
    "    package_extra = pd.read_sql_table(\n",
    "        table_name=\"package_extra\", \n",
    "        con=connection,\n",
    "        schema=\"public\",\n",
    "        )\n",
    "    \n",
    "access_rights = package_extra[package_extra[\"key\"]==\"access_rights\"].copy(deep=True)"
   ]
  },
  {
   "cell_type": "code",
   "execution_count": 28,
   "metadata": {},
   "outputs": [],
   "source": [
    "import json\n",
    "access_rights[\"access_rights_label\"] = access_rights[\"value\"].apply(lambda x: get_value_from_json_serialization(x, \"label\")).apply(lambda x: [json.loads(val)[\"fr\"] for val in x] )\n",
    "access_rights = access_rights.explode('access_rights_label').reset_index(drop=True)"
   ]
  },
  {
   "cell_type": "code",
   "execution_count": 37,
   "metadata": {},
   "outputs": [],
   "source": [
    "labels = pd.DataFrame(access_rights[\"access_rights_label\"].unique(), columns=[\"label\"])\n",
    "labels.sort_values(by=[\"label\"], inplace=True)\n",
    "labels.to_excel(\"access_rights_label.xlsx\")"
   ]
  }
 ],
 "metadata": {
  "kernelspec": {
   "display_name": "env",
   "language": "python",
   "name": "python3"
  },
  "language_info": {
   "codemirror_mode": {
    "name": "ipython",
    "version": 3
   },
   "file_extension": ".py",
   "mimetype": "text/x-python",
   "name": "python",
   "nbconvert_exporter": "python",
   "pygments_lexer": "ipython3",
   "version": "3.10.10"
  },
  "orig_nbformat": 4
 },
 "nbformat": 4,
 "nbformat_minor": 2
}
