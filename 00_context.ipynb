{
 "cells": [
  {
   "attachments": {},
   "cell_type": "markdown",
   "metadata": {
    "slideshow": {
     "slide_type": "slide"
    }
   },
   "source": [
    "## Observation des Métadonnées\n",
    "\n",
    "Le catalogue Ecosphères a pour vocation de faciliter l'identification sur chaque territoire des données utiles à l'appui des politiques publiques. Dans le cadre de ces observations, nous nous intéressons à la qualification des données remontées lors d'une recherche à partir des métadonnées disponibles. Nous nous appuierons sur une sélection de métadonnées parmi les champs décrits dans des documents de références tels que la documentation du profile [GeoDCAT-AP](https://semiceu.github.io/GeoDCAT-AP/releases/) et le guide de saisie des éléments de métadonnées [INSPIRE](https://semiceu.github.io/GeoDCAT-AP/releases/).\n",
    "\n",
    "Les métadonnées recueillies par le POC CKAN Ecosphères à partir des [points de moissonnage](https://github.com/ecolabdata/guichetdonnees-public/blob/main/moissonnages.json) sont à la base de ces observations. Les métadonnées sur les jeux de données sont entreposées dans les tables `package` et `package_extra` de la [base de données CKAN](https://boykoc.github.io/ckan/2019/10/21/ckan-283-database-diagram.html), également disponibles par API suivant le [schéma Ecosphères](https://github.com/ecolabdata/ckanext-ecospheres/blob/main/ckanext/ecospheres/scheming/ecospheres_dataset_schema.yaml) DCAT compatible."
   ]
  },
  {
   "cell_type": "markdown",
   "metadata": {
    "slideshow": {
     "slide_type": "notes"
    },
    "vscode": {
     "languageId": "html"
    }
   },
   "source": [
    "<style type=\"text/css\">\n",
    "    /* Custom footer, <div> type so positioned as desired. */\n",
    "    #header_left {\n",
    "        position: absolute;\n",
    "        top: 0%;\n",
    "        left: 2.5%;\n",
    "        font-size: large;\n",
    "        font-weight: bold;\n",
    "    }\n",
    "\n",
    "    #header_right {\n",
    "        position: absolute;\n",
    "        top: 0%;\n",
    "        right: 2.5%;\n",
    "        font-size: large;\n",
    "        font-weight: bold;\n",
    "    }\n",
    "</style>\n",
    "\n",
    "<div id=\"hidden\" style=\"display:none;\">\n",
    "    <div id=\"header\">\n",
    "        <p id=\"header_left\">UPDATE</p>\n",
    "        <p id=\"header_right\">UPDATE</p>\n",
    "    </div>\n",
    "</div>\n",
    "\n",
    "<script src=\"https://code.jquery.com/jquery-2.2.4.min.js\"></script>\n",
    "<script type=\"text/javascript\">\n",
    "    var header = $('#header').html();\n",
    "    if ( window.location.search.match( /print-pdf/gi ) ) {\n",
    "        Reveal.addEventListener( 'ready', function( event ) {\n",
    "            $('.slide-background').append(header);\n",
    "        });\n",
    "    }\n",
    "    else {\n",
    "        $('div.reveal').append(header);\n",
    "   }\n",
    "</script>"
   ]
  }
 ],
 "metadata": {
  "celltoolbar": "Diaporama",
  "kernelspec": {
   "display_name": "Python 3 (ipykernel)",
   "language": "python",
   "name": "python3"
  },
  "language_info": {
   "codemirror_mode": {
    "name": "ipython",
    "version": 3
   },
   "file_extension": ".py",
   "mimetype": "text/x-python",
   "name": "python",
   "nbconvert_exporter": "python",
   "pygments_lexer": "ipython3",
   "version": "3.10.10"
  }
 },
 "nbformat": 4,
 "nbformat_minor": 2
}
