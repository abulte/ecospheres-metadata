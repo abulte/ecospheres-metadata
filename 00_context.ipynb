{
 "cells": [
  {
   "attachments": {},
   "cell_type": "markdown",
   "metadata": {
    "slideshow": {
     "slide_type": "slide"
    }
   },
   "source": [
    "## Analyse des Métadonnées\n",
    "\n",
    "Le catalogue Ecosphères a pour vocation de faciliter l'identification sur chaque territoire des données utiles à l'appui des politiques publiques (diagnostic, planificaiton, suivi). Dans le cadre de ces observations, nous nous intéressons au potentiel de priorisation des données remontées lors d'une recherche à partir des métadonnées disponibles au regard de critères thématiques, géographiques, temporels, d'accès à la donnée et enfin de fiabilité. Nous nous appuierons sur une sélection de métadonnées parmi les champs décrits dans des documents de références tels que la documentation du profile [GeoDCAT-AP](https://semiceu.github.io/GeoDCAT-AP/releases/) et le guide de saisie des éléments de métadonnées [INSPIRE](https://semiceu.github.io/GeoDCAT-AP/releases/).\n",
    "\n",
    "Les métadonnées recueillies par le POC CKAN Ecosphères à partir des [points de moissonnage](https://github.com/ecolabdata/guichetdonnees-public/blob/main/moissonnages.json) sont à la base de ces observations. Les métadonnées sur les jeux de données sont entreposés dans les tables *package* et *package_extra* de la [base de données CKAN](https://boykoc.github.io/ckan/2019/10/21/ckan-283-database-diagram.html), également disponibles par API suivant le [schéma Ecosphères](https://github.com/ecolabdata/ckanext-ecospheres/blob/main/ckanext/ecospheres/scheming/ecospheres_dataset_schema.yaml) DCAT compatible."
   ]
  },
  {
   "cell_type": "code",
   "execution_count": null,
   "metadata": {
    "execution": {
     "iopub.execute_input": "2023-06-08T10:34:45.948294Z",
     "iopub.status.busy": "2023-06-08T10:34:45.948294Z",
     "iopub.status.idle": "2023-06-08T10:35:10.282969Z",
     "shell.execute_reply": "2023-06-08T10:35:10.281970Z"
    },
    "slideshow": {
     "slide_type": "-"
    }
   },
   "outputs": [],
   "source": [
    "import pandas as pd\n",
    "from datetime import datetime\n",
    "from IPython.display import Markdown as md\n",
    "from utils import wrapper_engine\n",
    "\n",
    "engine = wrapper_engine('config.ini')\n",
    "\n",
    "# Load data\n",
    "with engine.connect() as connection:\n",
    "    package = pd.read_sql_table(\n",
    "        table_name=\"package\", \n",
    "        con=connection,\n",
    "        schema=\"public\",\n",
    "        )\n",
    "    \n",
    "    package_extra = pd.read_sql_table(\n",
    "        table_name=\"package_extra\", \n",
    "        con=connection,\n",
    "        schema=\"public\",\n",
    "        )"
   ]
  },
  {
   "cell_type": "markdown",
   "metadata": {
    "slideshow": {
     "slide_type": "notes"
    },
    "vscode": {
     "languageId": "html"
    }
   },
   "source": [
    "<style type=\"text/css\">\n",
    "    /* Custom footer, <div> type so positioned as desired. */\n",
    "    #header_left {\n",
    "        position: absolute;\n",
    "        top: 0%;\n",
    "        left: 2.5%;\n",
    "        font-size: large;\n",
    "        font-weight: bold;\n",
    "    }\n",
    "\n",
    "    #header_right {\n",
    "        position: absolute;\n",
    "        top: 0%;\n",
    "        right: 2.5%;\n",
    "        font-size: large;\n",
    "        font-weight: bold;\n",
    "    }\n",
    "</style>\n",
    "\n",
    "<div id=\"hidden\" style=\"display:none;\">\n",
    "    <div id=\"header\">\n",
    "        <p id=\"header_left\">UPDATE</p>\n",
    "        <p id=\"header_right\">UPDATE</p>\n",
    "    </div>\n",
    "</div>\n",
    "\n",
    "<script src=\"https://code.jquery.com/jquery-2.2.4.min.js\"></script>\n",
    "<script type=\"text/javascript\">\n",
    "    var header = $('#header').html();\n",
    "    if ( window.location.search.match( /print-pdf/gi ) ) {\n",
    "        Reveal.addEventListener( 'ready', function( event ) {\n",
    "            $('.slide-background').append(header);\n",
    "        });\n",
    "    }\n",
    "    else {\n",
    "        $('div.reveal').append(header);\n",
    "   }\n",
    "</script>"
   ]
  },
  {
   "attachments": {},
   "cell_type": "markdown",
   "metadata": {
    "slideshow": {
     "slide_type": "subslide"
    }
   },
   "source": [
    "**Taux de remplissage**"
   ]
  },
  {
   "cell_type": "code",
   "execution_count": null,
   "metadata": {
    "slideshow": {
     "slide_type": "skip"
    }
   },
   "outputs": [],
   "source": [
    "# See metadata: rights\n",
    "empty_metadata = [\n",
    "    '{\"fr\": [], \"en\": []}',\n",
    "    '{}'\n",
    "]\n",
    "\n",
    "keys_to_drop = [\n",
    "    'harvest_object_id',\n",
    "    'harvest_source_id',\n",
    "    'harvest_source_title'\n",
    "]\n",
    "\n",
    "fill_rate = package_extra[[\"key\", \"value\", \"package_id\"]].copy(deep=True)\n",
    "\n",
    "fill_rate[\"value\"] = fill_rate[\"value\"].apply(lambda x: None if x in empty_metadata else x)\n",
    "fill_rate.dropna(inplace=True)\n",
    "\n",
    "fill_rate = fill_rate[~fill_rate[\"key\"].isin(keys_to_drop)]\n",
    "\n",
    "fill_rate = fill_rate.groupby(\"key\", as_index=False).count()\n",
    "fill_rate[\"package_id\"] = fill_rate[\"package_id\"].apply(lambda x: x/len(package[package[\"type\"]=='dataset'])*100)"
   ]
  },
  {
   "cell_type": "code",
   "execution_count": null,
   "metadata": {
    "slideshow": {
     "slide_type": "-"
    }
   },
   "outputs": [],
   "source": [
    "import plotly\n",
    "import plotly.express as px\n",
    "\n",
    "plotly.offline.init_notebook_mode(connected=True)\n",
    "fig = px.bar(fill_rate.sort_values(by=[\"package_id\", \"key\"], ascending=False),\n",
    "             x='key', \n",
    "             y='package_id',\n",
    "             color_discrete_sequence=['#000091'],\n",
    "            labels={\"key\": \"Métadonnée\",\n",
    "                    \"package_id\": \"Remplissage [%]\"})\n",
    "fig.add_hline(\n",
    "    y=int(fill_rate[\"package_id\"].median()), \n",
    "    line_width=3, \n",
    "    line_dash=\"dash\", \n",
    "    line_color=\"red\",\n",
    "    annotation_text=\"médiane\",\n",
    "    annotation_textangle = 0)\n",
    "plotly.offline.iplot(fig)"
   ]
  }
 ],
 "metadata": {
  "celltoolbar": "Diaporama",
  "kernelspec": {
   "display_name": "Python 3 (ipykernel)",
   "language": "python",
   "name": "python3"
  },
  "language_info": {
   "codemirror_mode": {
    "name": "ipython",
    "version": 3
   },
   "file_extension": ".py",
   "mimetype": "text/x-python",
   "name": "python",
   "nbconvert_exporter": "python",
   "pygments_lexer": "ipython3",
   "version": "3.10.10"
  }
 },
 "nbformat": 4,
 "nbformat_minor": 2
}
