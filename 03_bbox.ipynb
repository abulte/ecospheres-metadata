{
 "cells": [
  {
   "attachments": {},
   "cell_type": "markdown",
   "metadata": {
    "slideshow": {
     "slide_type": "slide"
    }
   },
   "source": [
    "## Bounded Boxes\n",
    "\n",
    "**Observations**  \n",
    "-Nombre de datasets par département  \n",
    "-Nombre de dataset par superficie de bounded box suivant 4 catégories : intra-départemental, départemental, régional, supranational  \n",
    "\n",
    "**Traitements**  \n",
    "-Données filtrées sur le territoire métropolitain (zones terrestres) par jointure spatiale des centroides des bounded boxes avec les géométries des départements métropolitains"
   ]
  },
  {
   "cell_type": "code",
   "execution_count": null,
   "metadata": {
    "slideshow": {
     "slide_type": "skip"
    }
   },
   "outputs": [],
   "source": [
    "import pandas as pd\n",
    "import geopandas as gpd\n",
    "import shapely\n",
    "from pathlib import Path\n",
    "\n",
    "import plotly\n",
    "import plotly.express as px\n",
    "\n",
    "from utils.utils import wrapper_engine, compute_areas_km2\n",
    "engine = wrapper_engine('config.ini')\n",
    "\n",
    "from utils import custom_settings\n",
    "from itables import show\n",
    "custom_settings.apply_itable_custom_settings()"
   ]
  },
  {
   "cell_type": "code",
   "execution_count": null,
   "metadata": {
    "slideshow": {
     "slide_type": "skip"
    }
   },
   "outputs": [],
   "source": [
    "# Load data\n",
    "with engine.connect() as connection:    \n",
    "    package_extra = pd.read_sql_table(\n",
    "        table_name=\"package_extra\", \n",
    "        con=connection,\n",
    "        schema=\"public\",\n",
    "        )\n",
    "    \n",
    "    package = pd.read_sql_table(\n",
    "        table_name=\"package\", \n",
    "        con=connection,\n",
    "        schema=\"public\",\n",
    "        )\n",
    "    \n",
    "package_extra = package_extra[package_extra.key.isin([\"bbox\", \"crs\"])].sort_values(by=[\"package_id\", \"key\"])\n",
    "package_extra = pd.pivot_table(package_extra, index=[\"package_id\"], values=[\"value\"], columns=[\"key\"], aggfunc='first')\n",
    "package_extra = package_extra.droplevel(0, axis=1).reset_index().rename_axis(columns=None)"
   ]
  },
  {
   "attachments": {},
   "cell_type": "markdown",
   "metadata": {
    "slideshow": {
     "slide_type": "skip"
    }
   },
   "source": [
    "**Nombre de datasets avec bounded boxes**"
   ]
  },
  {
   "cell_type": "code",
   "execution_count": null,
   "metadata": {
    "slideshow": {
     "slide_type": "skip"
    }
   },
   "outputs": [],
   "source": [
    "show(package_extra[[\"package_id\",\"bbox\"]].rename(columns={\"packaged_id\":\"datasets\"}).describe())"
   ]
  },
  {
   "cell_type": "code",
   "execution_count": null,
   "metadata": {
    "slideshow": {
     "slide_type": "skip"
    }
   },
   "outputs": [],
   "source": [
    "### WARNING : bounded box coordinates are supposedly projected in EPSG:4326, not to be confused with datasets ESPG metadatas\n",
    "\n",
    "mainland_data = package_extra.dropna(subset=[\"bbox\"]).copy(deep=True)\n",
    "mainland_data[\"bbox\"] = mainland_data[\"bbox\"].apply(lambda x: shapely.wkt.loads(x))\n",
    "mainland_data = gpd.GeoDataFrame(mainland_data, geometry=\"bbox\", crs=\"EPSG:4326\")\n",
    "\n",
    "mainland_data[\"centroid\"] = mainland_data[\"bbox\"].apply(lambda x: x.centroid)"
   ]
  },
  {
   "cell_type": "code",
   "execution_count": null,
   "metadata": {
    "slideshow": {
     "slide_type": "skip"
    }
   },
   "outputs": [],
   "source": [
    "admin_express_data = Path(\n",
    "    r\"data/ADMIN-EXPRESS-COG-CARTO_3-0__SHP_WGS84G_FRA_2021-05-19/ADMIN-EXPRESS-COG-CARTO/1_DONNEES_LIVRAISON_2021-05-19/ADECOGC_3-0_SHP_WGS84G_FRA/\"\n",
    ")\n",
    "\n",
    "#### Read region geometries - Default EPSG: 3857 (pseudo mercator)\n",
    "regions = gpd.read_file(admin_express_data.joinpath(\"REGION.shp\"))\n",
    "\n",
    "# Exclude oversea territories\n",
    "regions = regions[regions[\"INSEE_REG\"].isin([str(int(x)) for x in range(10, 100)])]\n",
    "# Projection in meter for areas comparison: https://epsg.io/2154\n",
    "regions[\"bounded_box\"] = regions[\"geometry\"].envelope\n",
    "regions[\"area_km2\"] = compute_areas_km2(regions[\"bounded_box\"].to_crs(\"2154\"))"
   ]
  },
  {
   "cell_type": "code",
   "execution_count": null,
   "metadata": {
    "slideshow": {
     "slide_type": "skip"
    }
   },
   "outputs": [],
   "source": [
    "#### Read departments geometries - Default EPSG: 3857 (pseudo mercator)\n",
    "departments = gpd.read_file(admin_express_data.joinpath(\"DEPARTEMENT.shp\"))\n",
    "\n",
    "# Exclude oversea territories\n",
    "departments = departments[departments[\"INSEE_DEP\"].isin([str(int(x)).zfill(2) for x in range(0, 100)] + ['2A', '2B'])]\n",
    "## Projection in meter for areas comparison: https://epsg.io/2154\n",
    "departments[\"bounded_box\"] = departments[\"geometry\"].envelope\n",
    "departments[\"area_km2\"] = compute_areas_km2(departments[\"bounded_box\"].to_crs(\"2154\"))\n",
    "departments.to_crs(\"2154\", inplace=True)"
   ]
  },
  {
   "cell_type": "code",
   "execution_count": null,
   "metadata": {
    "slideshow": {
     "slide_type": "skip"
    }
   },
   "outputs": [],
   "source": [
    "# Filter on metropolitan data\n",
    "metropolitan_data = gpd.sjoin(\n",
    "    departments[[\"ID\", \"NOM\", \"geometry\"]].to_crs(4326),\n",
    "    mainland_data.set_geometry(\"centroid\"),\n",
    "    predicate=\"contains\")\n",
    "metropolitan_data[\"area_km2\"] = compute_areas_km2(metropolitan_data[\"bbox\"].to_crs(\"3035\"))"
   ]
  },
  {
   "cell_type": "code",
   "execution_count": null,
   "metadata": {
    "slideshow": {
     "slide_type": "skip"
    }
   },
   "outputs": [],
   "source": [
    "metropolitan_data_count = metropolitan_data.groupby(\"ID\", as_index=False).agg(\n",
    "    {\n",
    "        \"NOM\": \"first\",\n",
    "        \"geometry\": \"first\",\n",
    "        \"bbox\": \"count\"\n",
    "    }\n",
    ").set_geometry(\"geometry\").rename(columns={\"bbox\": \"count\"}).set_crs(epsg=4326).sort_values(by=\"count\", ascending=False)"
   ]
  },
  {
   "cell_type": "code",
   "execution_count": null,
   "metadata": {
    "slideshow": {
     "slide_type": "subslide"
    }
   },
   "outputs": [],
   "source": [
    "plotly.offline.init_notebook_mode(connected=True)\n",
    "fig = px.bar(metropolitan_data_count,\n",
    "             x='NOM', \n",
    "             y='count',\n",
    "             color_discrete_sequence=['#000091'],\n",
    "            labels={\"NOM\": \"Département\",\n",
    "                    \"count\": \"Nombre\"})\n",
    "fig.add_hline(\n",
    "    y=int(metropolitan_data_count[\"count\"].median()), \n",
    "    line_width=3, \n",
    "    line_dash=\"dash\", \n",
    "    line_color=\"red\",\n",
    "    annotation_text=\"médiane\",\n",
    "    annotation_textangle = 0)\n",
    "fig.update_layout(margin=dict(l=20, r=20, t=20, b=20))\n",
    "plotly.offline.iplot(fig)"
   ]
  },
  {
   "cell_type": "code",
   "execution_count": null,
   "metadata": {
    "slideshow": {
     "slide_type": "subslide"
    }
   },
   "outputs": [],
   "source": [
    "plotly.offline.init_notebook_mode(connected=True)\n",
    "fig = px.choropleth(\n",
    "                    metropolitan_data_count, \n",
    "                    geojson=metropolitan_data_count[\"geometry\"],\n",
    "                    locations=metropolitan_data_count.index,\n",
    "                    color='count',\n",
    "                    color_continuous_scale=\"Turbo\",\n",
    "                    hover_name=\"NOM\",\n",
    "                    projection=\"mercator\"\n",
    "                  )\n",
    "fig.update_geos(fitbounds=\"locations\", \n",
    "                visible=False,)\n",
    "fig.update_traces(marker_line_width=0)\n",
    "fig.update_layout(margin=dict(l=20, r=20, t=20, b=20))\n",
    "plotly.offline.iplot(fig)"
   ]
  },
  {
   "cell_type": "code",
   "execution_count": null,
   "metadata": {
    "slideshow": {
     "slide_type": "skip"
    }
   },
   "outputs": [],
   "source": [
    "departments_range = range(\n",
    "    departments[\"area_km2\"].min().astype(int), \n",
    "    max(departments[\"area_km2\"].max(), regions[\"area_km2\"].min()).astype(int))\n",
    "\n",
    "regions_range = range(\n",
    "    max(departments[\"area_km2\"].max(), regions[\"area_km2\"].min()).astype(int), \n",
    "    regions[\"area_km2\"].max().astype(int))\n",
    "\n",
    "supra_regional = range(\n",
    "    regions[\"area_km2\"].max().astype(int),\n",
    "    regions[\"area_km2\"].sum().astype(int))\n",
    "\n",
    "metropolitan_data[\"category\"] = metropolitan_data[\"area_km2\"].apply(lambda x:\n",
    "    \"01_Intra-départemental\" if (int(x) < departments[\"area_km2\"].min().astype(int)) \n",
    "    else \"02_Départemental\" if (int(x) in departments_range)\n",
    "    else \"03_Régional\" if (int(x) in regions_range)\n",
    "    else \"04_Suprarégional\" if (int(x) in supra_regional)\n",
    "    else \"05_Supranational\" if (int(x) > regions[\"area_km2\"].sum().astype(int)) \n",
    "    else None)"
   ]
  },
  {
   "cell_type": "code",
   "execution_count": null,
   "metadata": {
    "slideshow": {
     "slide_type": "subslide"
    }
   },
   "outputs": [],
   "source": [
    "plotly.offline.init_notebook_mode(connected=True)\n",
    "metropolitan_data_category = metropolitan_data.groupby(\"category\", as_index=False).agg(\n",
    "    {\n",
    "        \"bbox\": \"count\",\n",
    "    }\n",
    ").rename(columns={\"bbox\":\"count\"})\n",
    "fig = px.bar(metropolitan_data_category, \n",
    "             x='category', \n",
    "             y='count',\n",
    "             color_discrete_sequence=['#000091'],\n",
    "             labels={\"category\": \"Catégorie\",\n",
    "                    \"count\": \"Nombre\"}\n",
    "             )\n",
    "fig.update_layout(margin=dict(l=20, r=20, t=20, b=20))\n",
    "plotly.offline.iplot(fig)"
   ]
  }
 ],
 "metadata": {
  "kernelspec": {
   "display_name": "env",
   "language": "python",
   "name": "python3"
  },
  "language_info": {
   "codemirror_mode": {
    "name": "ipython",
    "version": 3
   },
   "file_extension": ".py",
   "mimetype": "text/x-python",
   "name": "python",
   "nbconvert_exporter": "python",
   "pygments_lexer": "ipython3",
   "version": "3.10.10"
  },
  "orig_nbformat": 4
 },
 "nbformat": 4,
 "nbformat_minor": 2
}
