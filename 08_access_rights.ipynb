{
 "cells": [
  {
   "cell_type": "markdown",
   "metadata": {
    "slideshow": {
     "slide_type": "slide"
    }
   },
   "source": [
    "## Access Rights/Restricted\n",
    "\n",
    "**Observations**  \n",
    "-Identification de données à accès restreint.\n",
    "\n",
    "**Traitements**  \n",
    "-Identification des données restreintes à partir des labels de la métadonnée *access_rights*, comparaison avec la métadonnée dérivée *restricted* (booléenne)."
   ]
  },
  {
   "cell_type": "code",
   "execution_count": null,
   "metadata": {
    "slideshow": {
     "slide_type": "skip"
    }
   },
   "outputs": [],
   "source": [
    "import pandas as pd\n",
    "import json\n",
    "\n",
    "from utils.utils import wrapper_engine, get_value_from_json_serialization\n",
    "engine = wrapper_engine('config.ini')\n",
    "\n",
    "from utils import custom_settings\n",
    "from itables import show\n",
    "custom_settings.apply_itable_custom_settings()"
   ]
  },
  {
   "cell_type": "code",
   "execution_count": null,
   "metadata": {
    "slideshow": {
     "slide_type": "skip"
    }
   },
   "outputs": [],
   "source": [
    "# Load data\n",
    "with engine.connect() as connection:\n",
    "    package = pd.read_sql_table(\n",
    "        table_name=\"package\", \n",
    "        con=connection,\n",
    "        schema=\"public\",\n",
    "        )\n",
    "\n",
    "    package_extra = pd.read_sql_table(\n",
    "        table_name=\"package_extra\", \n",
    "        con=connection,\n",
    "        schema=\"public\",\n",
    "        )"
   ]
  },
  {
   "cell_type": "markdown",
   "metadata": {
    "slideshow": {
     "slide_type": "-"
    }
   },
   "source": [
    "**Nombre de datasets comportant la métadonnée access_rights**"
   ]
  },
  {
   "cell_type": "code",
   "execution_count": null,
   "metadata": {
    "slideshow": {
     "slide_type": "-"
    }
   },
   "outputs": [],
   "source": [
    "access_rights = package_extra[package_extra[\"key\"]==\"access_rights\"].copy(deep=True)\n",
    "access_rights[\"access_rights_label\"] = access_rights[\"value\"].apply(lambda x: get_value_from_json_serialization(x, \"label\")).apply(lambda x: [json.loads(val)[\"fr\"] for val in x] )\n",
    "show(access_rights[[\"package_id\", \"access_rights_label\"]].rename(columns={\"package_id\":\"datasets\" }).describe())"
   ]
  },
  {
   "cell_type": "code",
   "execution_count": null,
   "metadata": {
    "slideshow": {
     "slide_type": "subslide"
    }
   },
   "outputs": [],
   "source": [
    "## Explode access_rights_label currently resolved as a list of labels, to display a single label per row.\n",
    "access_rights = access_rights.explode('access_rights_label').reset_index(drop=True)\n",
    "\n",
    "# Patterns identified manually from the previously exported access rights labels.\n",
    "pattern_restricted_access = [\n",
    "    \"Accès possible\",\n",
    "    \"la communication de ces données reste réservée aux seuls services\",\n",
    "    \"Donnée à diffusion restreinte\",\n",
    "    \"la donnée ne doit donc pas être en libre accès\",\n",
    "    \"Donnée contenant des informations personnelles à diffusion restreinte\"\n",
    "]\n",
    "\n",
    "access_rights[\"restricted\"] = access_rights[\"access_rights_label\"].apply(lambda x: any(label in x for label in pattern_restricted_access))\n",
    "columns = [\"title\", \"notes\",\"access_rights_label\"]\n",
    "restricted_datasets = package.merge(access_rights[access_rights.restricted], how=\"inner\", left_on=\"id\", right_on=\"package_id\")[columns]\n",
    "show(restricted_datasets)"
   ]
  },
  {
   "cell_type": "markdown",
   "metadata": {
    "slideshow": {
     "slide_type": "subslide"
    }
   },
   "source": [
    "Métadonnée *restricted_access*, dérivée des labels *access_rights*"
   ]
  },
  {
   "cell_type": "code",
   "execution_count": null,
   "metadata": {
    "slideshow": {
     "slide_type": "-"
    }
   },
   "outputs": [],
   "source": [
    "restricted = package_extra[package_extra[\"key\"]==\"restricted_access\"].copy(deep=True)\n",
    "show(restricted[[\"package_id\", \"value\"]].rename(columns={\"package_id\":\"datasets\", \"value\":\"restricted_access\"}).describe())"
   ]
  }
 ],
 "metadata": {
  "kernelspec": {
   "display_name": "Python 3 (ipykernel)",
   "language": "python",
   "name": "python3"
  },
  "language_info": {
   "codemirror_mode": {
    "name": "ipython",
    "version": 3
   },
   "file_extension": ".py",
   "mimetype": "text/x-python",
   "name": "python",
   "nbconvert_exporter": "python",
   "pygments_lexer": "ipython3",
   "version": "3.10.10"
  }
 },
 "nbformat": 4,
 "nbformat_minor": 4
}
