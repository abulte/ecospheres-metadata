{
 "cells": [
  {
   "cell_type": "markdown",
   "metadata": {
    "slideshow": {
     "slide_type": "slide"
    }
   },
   "source": [
    "## Category\n",
    "\n",
    "**Observations**  \n",
    "-Distribution des datasets par category"
   ]
  },
  {
   "cell_type": "code",
   "execution_count": null,
   "metadata": {
    "slideshow": {
     "slide_type": "skip"
    }
   },
   "outputs": [],
   "source": [
    "import pandas as pd\n",
    "from IPython.display import Markdown as md\n",
    "\n",
    "from utils import wrapper_engine, get_value_from_json_serialization\n",
    "engine = wrapper_engine('config.ini')\n",
    "\n",
    "import custom_settings\n",
    "from itables import show\n",
    "custom_settings.apply_itable_custom_settings()"
   ]
  },
  {
   "cell_type": "code",
   "execution_count": null,
   "metadata": {
    "slideshow": {
     "slide_type": "skip"
    }
   },
   "outputs": [],
   "source": [
    "# Load data\n",
    "with engine.connect() as connection:\n",
    "    package_extra = pd.read_sql_table(\n",
    "        table_name=\"package_extra\", \n",
    "        con=connection,\n",
    "        schema=\"public\",\n",
    "        )\n",
    "    \n",
    "category = package_extra[package_extra[\"key\"]==\"category\"].copy(deep=True)"
   ]
  },
  {
   "cell_type": "code",
   "execution_count": null,
   "metadata": {},
   "outputs": [],
   "source": [
    "show(category[[\"package_id\", \"value\"]].rename(columns={\"value\":\"category\"}).describe())"
   ]
  },
  {
   "cell_type": "code",
   "execution_count": null,
   "metadata": {
    "slideshow": {
     "slide_type": "subslide"
    }
   },
   "outputs": [],
   "source": [
    "category[\"cateogries_uri_list\"] = category[\"value\"].apply(lambda x: get_value_from_json_serialization(x, key=\"uri\"))\n",
    "category[\"nb_categories\"] = category[\"cateogries_uri_list\"].apply(lambda x: len(x))\n",
    "\n",
    "# Nombre de catégories par dataset\n",
    "import plotly\n",
    "import plotly.express as px\n",
    "plotly.offline.init_notebook_mode(connected=True)\n",
    "\n",
    "fig = px.histogram(category, \n",
    "                   x=\"nb_categories\",\n",
    "                   template=\"seaborn\",\n",
    "                   labels={\"nb_categories\": \"Nombre de categories par dataset\",},\n",
    "                   color_discrete_sequence=['#000091'])\n",
    "fig.update_layout(bargap=0.2,\n",
    "                  yaxis_title=\"Nombre de datasets\",)\n",
    "fig.update_traces(opacity=0.8)\n",
    "plotly.offline.iplot(fig)"
   ]
  },
  {
   "cell_type": "code",
   "execution_count": null,
   "metadata": {},
   "outputs": [],
   "source": [
    "columns = []\n",
    "for i, _ in enumerate(category[\"nb_categories\"].unique()):\n",
    "    column = \"category_\" + str(i)\n",
    "    category[column] = None\n",
    "    columns.append(column)\n",
    "\n",
    "category[columns] = pd.DataFrame(category[\"cateogries_uri_list\"].tolist(),  index= category.index)\n",
    "\n",
    "melted_categories = pd.melt(\n",
    "    category,\n",
    "    id_vars=\"package_id\",\n",
    "    value_vars=columns,\n",
    "    value_name=\"category\"\n",
    ").dropna().drop(columns=\"variable\")"
   ]
  },
  {
   "cell_type": "code",
   "execution_count": null,
   "metadata": {},
   "outputs": [],
   "source": [
    "# See: https://github.com/ecolabdata/ckanext-dsfr/blob/main/ckanext/theme_design_system_fr/public/js/ecosphere/vocabularies/themes_jsonld.json\n",
    "# User right error when reading table public.ecospheres_theme_hierarchy\n",
    "# Alternatively, ckanext-ecospheres was imported in the external folder and the VocabularyIndex class called to directly read values from register\n",
    "\n",
    "import sys\n",
    "sys.path.append('external/ckanext-ecospheres')\n",
    "from ckanext.ecospheres.vocabulary.index import VocabularyIndex\n",
    "\n",
    "ecospheres_themes = VocabularyIndex.load(\"ecospheres_theme\")\n",
    "\n",
    "hierarchy_themes = pd.DataFrame(ecospheres_themes.data.hierarchy)\n",
    "hierachy_themes_dict = dict(zip(hierarchy_themes[\"child\"], hierarchy_themes[\"parent\"]))\n",
    "\n",
    "label_themes = pd.DataFrame(ecospheres_themes.data.label)\n",
    "label_themes_dict = dict(zip(label_themes[\"uri\"], label_themes[\"label\"]))\n"
   ]
  },
  {
   "cell_type": "code",
   "execution_count": null,
   "metadata": {},
   "outputs": [],
   "source": [
    "def find_parent(uri:str):\n",
    "    try:\n",
    "        return hierachy_themes_dict[uri]\n",
    "    except Exception as exception:\n",
    "        print(\"No parent for uri: \", uri)\n",
    "        return None\n",
    "    \n",
    "melted_categories[\"parent\"] = melted_categories[\"category\"].apply(lambda x: find_parent(x))\n",
    "melted_categories.dropna(subset=[\"parent\"], inplace=True)\n",
    "melted_categories = melted_categories.groupby(by=[\"parent\", \"category\"], as_index=False).count()"
   ]
  },
  {
   "cell_type": "code",
   "execution_count": null,
   "metadata": {},
   "outputs": [],
   "source": [
    "def find_label(uri:str)->str:\n",
    "    try:\n",
    "        return label_themes_dict[uri]\n",
    "    except Exception as exception:\n",
    "        print(\"No label found for uri: \", uri)\n",
    "        return None\n",
    "    \n",
    "melted_categories[\"label_parent\"] = melted_categories[\"parent\"].apply(lambda x: find_label(x))\n",
    "melted_categories[\"label_child\"] = melted_categories[\"category\"].apply(lambda x: find_label(x))"
   ]
  },
  {
   "cell_type": "code",
   "execution_count": null,
   "metadata": {},
   "outputs": [],
   "source": [
    "parent_sum = []\n",
    "parents = []\n",
    "for parent in melted_categories[\"label_parent\"].unique():\n",
    "    parents.append(parent)\n",
    "    parent_sum.append(melted_categories[melted_categories[\"label_parent\"]==parent][\"package_id\"].sum())\n",
    "\n",
    "add_parent_counts = pd.DataFrame(\n",
    "    {\n",
    "        \"label_parent\":[\"\"] + [\"Ecosphères\"]*len(parents),\n",
    "        \"label_child\": [\"Ecosphères\"] + parents,\n",
    "        \"package_id\": [melted_categories[\"package_id\"].sum()] + parent_sum\n",
    "    })\n",
    "\n",
    "melted_categories = melted_categories.append(add_parent_counts)\n",
    "\n",
    "import plotly.express as px\n",
    "\n",
    "import plotly\n",
    "import plotly.express as px\n",
    "plotly.offline.init_notebook_mode(connected=True)\n",
    "fig =px.treemap(\n",
    "    names=melted_categories[\"label_child\"].to_list(),\n",
    "    parents=melted_categories[\"label_parent\"].to_list(),\n",
    "    values=melted_categories[\"package_id\"].to_list(),\n",
    "    branchvalues=\"total\",\n",
    ")\n",
    "fig.update_layout(margin = dict(t=0, l=0, r=0, b=0))\n",
    "plotly.offline.iplot(fig)"
   ]
  }
 ],
 "metadata": {
  "kernelspec": {
   "display_name": "env",
   "language": "python",
   "name": "python3"
  },
  "language_info": {
   "codemirror_mode": {
    "name": "ipython",
    "version": 3
   },
   "file_extension": ".py",
   "mimetype": "text/x-python",
   "name": "python",
   "nbconvert_exporter": "python",
   "pygments_lexer": "ipython3",
   "version": "3.10.10"
  },
  "orig_nbformat": 4
 },
 "nbformat": 4,
 "nbformat_minor": 2
}
