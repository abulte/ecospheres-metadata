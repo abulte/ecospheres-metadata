{
 "cells": [
  {
   "cell_type": "code",
   "execution_count": null,
   "id": "0b890aa5-c5ef-4949-9e44-15c2b25b208f",
   "metadata": {},
   "outputs": [],
   "source": [
    "import rdflib\n",
    "import time\n",
    "import pandas as pd\n",
    "import os\n",
    "import s3fs\n",
    "from unidecode import unidecode\n",
    "from dotenv import load_dotenv\n",
    "from ydata_profiling import ProfileReport\n",
    "from utils.dcat_reader_ckan import DCATReaderCKAN\n",
    "from utils.utils import create_universe_pprn\n",
    "\n",
    "load_dotenv()  # take environment variables from .env."
   ]
  },
  {
   "cell_type": "code",
   "execution_count": null,
   "id": "8953084c-8397-46b6-86ba-a6d59a72aa4f",
   "metadata": {},
   "outputs": [],
   "source": [
    "import glob\n",
    "import pandas as pd\n",
    "import json\n",
    "\n",
    "# Create filesystem object\n",
    "S3_ENDPOINT_URL = \"https://\" + os.environ[\"AWS_S3_ENDPOINT\"]\n",
    "\n",
    "# Enter S3 cmd copied form SSLab : \n",
    "\n",
    "#######\n",
    "\n",
    "data = []\n",
    "iteration = 0\n",
    "BUCKET = \"projet-ecolab-action-qualite\"\n",
    "FILE_KEY_S3 = \"DUMP_INTEGRATION_JSON/integration_page_107_2023-10-14.json\"\n",
    "FILE_PATH_S3 = BUCKET + \"/\" + FILE_KEY_S3\n",
    "\n",
    "\n",
    "print(len(fs.ls(BUCKET + '/DUMP_INTEGRATION_JSON')))\n",
    "      \n",
    "for graph in fs.ls(BUCKET + '/DUMP_INTEGRATION_JSON'):\n",
    "    if '.json' in graph:\n",
    "        with fs.open(graph, mode=\"rb\") as file_in:\n",
    "            read_data = file_in.read()\n",
    "            page_data = DCATReaderCKAN(read_data).get_data()\n",
    "            # print(\"Fichier: \", graph, \"- Nombre de datasets : \", len(page_data))\n",
    "            data.append(\n",
    "                page_data\n",
    "            )\n",
    "            iteration += 1\n",
    "\n",
    "# print(\"Nombre de pages traitées : \", iteration)\n",
    "data = pd.concat(data)\n"
   ]
  },
  {
   "cell_type": "code",
   "execution_count": null,
   "id": "2c75901a-e254-4051-a777-0ca9f8d90b57",
   "metadata": {},
   "outputs": [],
   "source": [
    "from sqlalchemy import create_engine\n",
    "engine = create_engine(f\"postgresql+psycopg2://{os.environ['POSTGRES_USER']}:{os.environ['POSTGRES_PASSWORD']}@{os.environ['POSTGRES_URL']}:{os.environ['POSTGRES_PORT']}/{os.environ['POSTGRES_DB']}\")\n",
    "\n",
    "with engine.begin() as connection:\n",
    "    data.to_sql(name='datasets', con=connection, if_exists='replace', index=False)"
   ]
  },
  {
   "cell_type": "code",
   "execution_count": null,
   "id": "f0565094-607f-4c6a-bf01-744223377fcd",
   "metadata": {},
   "outputs": [],
   "source": [
    "import sweetviz as sv\n",
    "\n",
    "my_report = sv.analyze(data)\n",
    "my_report.show_html() # Default arguments will generate to \"SWEETVIZ_REPORT.html\""
   ]
  },
  {
   "cell_type": "markdown",
   "id": "f0c068bb-fbf2-41ad-b179-426fb6346d3d",
   "metadata": {},
   "source": [
    "## Attribution des univers"
   ]
  },
  {
   "cell_type": "code",
   "execution_count": null,
   "id": "07ee3f73-f07d-4e41-8b62-fc61e7d05fc4",
   "metadata": {},
   "outputs": [],
   "source": [
    "def create_universe_pprn(row):\n",
    "    \"\"\"\n",
    "    For a specific row, return if the element is considered to be a part of the 'PPRN' universe\n",
    "    \"\"\"\n",
    "    for elem in ['title', 'description']:\n",
    "        if 'pprn' in row[elem].lower():\n",
    "            return 'PPRN'\n",
    "        elif 'prevention des risques' in unidecode(row[elem]).lower():\n",
    "            return 'PPRN'\n",
    "    return None"
   ]
  },
  {
   "cell_type": "code",
   "execution_count": null,
   "id": "be64a15c-161e-49a4-818c-a0cac803cdbe",
   "metadata": {
    "scrolled": true
   },
   "outputs": [],
   "source": [
    "data['univers'] = data.apply(create_universe_pprn, axis=1)"
   ]
  },
  {
   "cell_type": "code",
   "execution_count": null,
   "id": "36561143-6bb1-478e-888c-61b3c99b0ab1",
   "metadata": {},
   "outputs": [],
   "source": [
    "data['univers'].count()"
   ]
  },
  {
   "cell_type": "code",
   "execution_count": null,
   "id": "6a090cd0-786d-415f-9c33-2482484b95be",
   "metadata": {},
   "outputs": [],
   "source": [
    "2357 PPRN avec filtre title = PPRN\n",
    "3985 PPRN en ajoutant le filtre title = 'prevention des risques' (independament des accents et majuscules)\n",
    "5122 PPRN en appliquant également ces filtre au champ 'description'"
   ]
  }
 ],
 "metadata": {
  "kernelspec": {
   "display_name": "Python 3 (ipykernel)",
   "language": "python",
   "name": "python3"
  },
  "language_info": {
   "codemirror_mode": {
    "name": "ipython",
    "version": 3
   },
   "file_extension": ".py",
   "mimetype": "text/x-python",
   "name": "python",
   "nbconvert_exporter": "python",
   "pygments_lexer": "ipython3",
   "version": "3.11.4"
  }
 },
 "nbformat": 4,
 "nbformat_minor": 5
}
