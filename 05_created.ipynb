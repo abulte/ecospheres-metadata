{
 "cells": [
  {
   "attachments": {},
   "cell_type": "markdown",
   "metadata": {
    "slideshow": {
     "slide_type": "slide"
    }
   },
   "source": [
    "## Created\n",
    "\n",
    "**Observations**  \n",
    "-Remplissage  \n",
    "-Distribution des datasets par année de création  \n",
    "-Distribution des datasets par mois de création pour l'année 2022  "
   ]
  },
  {
   "cell_type": "code",
   "execution_count": null,
   "metadata": {
    "slideshow": {
     "slide_type": "skip"
    }
   },
   "outputs": [],
   "source": [
    "import pandas as pd\n",
    "import plotly\n",
    "import plotly.express as px\n",
    "\n",
    "from utils import wrapper_engine, date_string_to_datetime\n",
    "engine = wrapper_engine('config.ini')\n",
    "\n",
    "import custom_settings\n",
    "from itables import show\n",
    "custom_settings.apply_itable_custom_settings()"
   ]
  },
  {
   "cell_type": "code",
   "execution_count": null,
   "metadata": {
    "slideshow": {
     "slide_type": "skip"
    }
   },
   "outputs": [],
   "source": [
    "# Load data\n",
    "with engine.connect() as connection:\n",
    "    package_extra = pd.read_sql_table(\n",
    "        table_name=\"package_extra\", \n",
    "        con=connection,\n",
    "        schema=\"public\",\n",
    "        )\n",
    "    \n",
    "created = package_extra[package_extra[\"key\"]==\"created\"].copy(deep=True)\n",
    "created[\"creation_year\"] = created[\"value\"].apply(lambda date: date_string_to_datetime(date).year).astype(str)"
   ]
  },
  {
   "attachments": {},
   "cell_type": "markdown",
   "metadata": {
    "slideshow": {
     "slide_type": "-"
    }
   },
   "source": [
    "**Nombre de datasets avec la métadonnée 'created'**"
   ]
  },
  {
   "cell_type": "code",
   "execution_count": null,
   "metadata": {
    "slideshow": {
     "slide_type": "-"
    }
   },
   "outputs": [],
   "source": [
    "show(created[[\"package_id\",\"creation_year\"]].rename(columns={\"package_id\":\"datasets\"}).describe())"
   ]
  },
  {
   "cell_type": "code",
   "execution_count": null,
   "metadata": {
    "slideshow": {
     "slide_type": "subslide"
    }
   },
   "outputs": [],
   "source": [
    "plotly.offline.init_notebook_mode(connected=True)\n",
    "fig = px.histogram(created.sort_values(by=[\"creation_year\"]), \n",
    "                   x=\"creation_year\",\n",
    "                   template=\"seaborn\",\n",
    "                   labels={\"creation_year\": \"Année de création\",},\n",
    "                   color_discrete_sequence=['#000091'])\n",
    "fig.update_layout(bargap=0.2,\n",
    "                  yaxis_title=\"Nombre\")\n",
    "fig.update_traces(opacity=0.8)\n",
    "plotly.offline.iplot(fig)"
   ]
  },
  {
   "cell_type": "code",
   "execution_count": null,
   "metadata": {
    "slideshow": {
     "slide_type": "subslide"
    }
   },
   "outputs": [],
   "source": [
    "created[\"creation_month\"] = created[\"value\"].apply(lambda date: date_string_to_datetime(date).strftime(\"%m\"))\n",
    "\n",
    "plotly.offline.init_notebook_mode(connected=True)\n",
    "fig = px.histogram(created[created[\"creation_year\"]==\"2022\"].sort_values(by=[\"creation_month\"]), \n",
    "                   x=\"creation_month\",\n",
    "                   template=\"seaborn\",\n",
    "                   labels={\"creation_month\": \"Mois de création, année 2022\",},\n",
    "                   color_discrete_sequence=['#000091'])\n",
    "fig.update_layout(bargap=0.2,\n",
    "                  yaxis_title=\"Nombre\")\n",
    "fig.update_traces(opacity=0.8)\n",
    "\n",
    "plotly.offline.iplot(fig)"
   ]
  }
 ],
 "metadata": {
  "kernelspec": {
   "display_name": "env",
   "language": "python",
   "name": "python3"
  },
  "language_info": {
   "codemirror_mode": {
    "name": "ipython",
    "version": 3
   },
   "file_extension": ".py",
   "mimetype": "text/x-python",
   "name": "python",
   "nbconvert_exporter": "python",
   "pygments_lexer": "ipython3",
   "version": "3.10.10"
  },
  "orig_nbformat": 4
 },
 "nbformat": 4,
 "nbformat_minor": 2
}
