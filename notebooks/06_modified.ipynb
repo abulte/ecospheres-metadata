{
 "cells": [
  {
   "attachments": {},
   "cell_type": "markdown",
   "metadata": {
    "slideshow": {
     "slide_type": "slide"
    }
   },
   "source": [
    "## Modified\n"
   ]
  },
  {
   "cell_type": "code",
   "execution_count": null,
   "metadata": {
    "slideshow": {
     "slide_type": "skip"
    }
   },
   "outputs": [],
   "source": [
    "import pandas as pd\n",
    "import plotly\n",
    "import plotly.express as px\n",
    "\n",
    "current_dir = os.getcwd()\n",
    "subfolder_a_path = os.path.abspath(os.path.join(current_dir, '..', 'src'))\n",
    "sys.path.append(subfolder_a_path)\n",
    "\n",
    "from src.utils import wrapper_engine, date_string_to_datetime\n",
    "engine = wrapper_engine('config.ini')\n",
    "\n",
    "from src import custom_settings\n",
    "from itables import show\n",
    "custom_settings.apply_itable_custom_settings()"
   ]
  },
  {
   "cell_type": "code",
   "execution_count": null,
   "metadata": {},
   "outputs": [],
   "source": [
    "# Load data\n",
    "with engine.connect() as connection:\n",
    "    package_extra = pd.read_sql_table(\n",
    "        table_name=\"package_extra\", \n",
    "        con=connection,\n",
    "        schema=\"public\",\n",
    "        )\n",
    "\n",
    "modified = package_extra[package_extra[\"key\"]==\"modified\"].copy(deep=True)\n",
    "modified[\"modification_year\"] = modified[\"value\"].apply(lambda date: date_string_to_datetime(date).year).astype(str)"
   ]
  },
  {
   "attachments": {},
   "cell_type": "markdown",
   "metadata": {
    "slideshow": {
     "slide_type": "skip"
    }
   },
   "source": [
    "**Nombre de datasets avec la métadonnée 'modified'**"
   ]
  },
  {
   "cell_type": "code",
   "execution_count": null,
   "metadata": {
    "slideshow": {
     "slide_type": "skip"
    }
   },
   "outputs": [],
   "source": [
    "show(modified[[\"package_id\", \"modification_year\"]].rename(columns={\"package_id\":\"datasets\"}).describe())"
   ]
  },
  {
   "cell_type": "code",
   "execution_count": null,
   "metadata": {
    "slideshow": {
     "slide_type": "-"
    }
   },
   "outputs": [],
   "source": [
    "plotly.offline.init_notebook_mode(connected=True)\n",
    "fig = px.histogram(modified.sort_values(by=[\"modification_year\"]), \n",
    "                   x=\"modification_year\",\n",
    "                   labels={\"modification_year\": \"Année de modification\",},\n",
    "                   color_discrete_sequence=['#000091'])\n",
    "fig.update_layout(bargap=0.2,\n",
    "                  yaxis_title=\"Nombre pour l'année 2022\")\n",
    "fig.update_traces(opacity=0.8)\n",
    "fig.update_layout(margin=dict(l=20, r=20, t=20, b=20))\n",
    "plotly.offline.iplot(fig)"
   ]
  },
  {
   "cell_type": "code",
   "execution_count": null,
   "metadata": {
    "slideshow": {
     "slide_type": "skip"
    }
   },
   "outputs": [],
   "source": [
    "modified[\"modification_month\"] = modified[\"value\"].apply(lambda date: date_string_to_datetime(date).strftime(\"%m\"))\n",
    "\n",
    "plotly.offline.init_notebook_mode(connected=True)\n",
    "fig = px.histogram(modified[modified[\"modification_year\"]==\"2022\"].sort_values(by=[\"modification_month\"]), \n",
    "                   x=\"modification_month\",\n",
    "                   labels={\"modification_month\": \"Mois de modification\",},\n",
    "                   color_discrete_sequence=['#000091'])\n",
    "fig.update_layout(bargap=0.2,\n",
    "                  yaxis_title=\"Nombre pour l'année 2022\")\n",
    "fig.update_traces(opacity=0.8)\n",
    "fig.update_layout(margin=dict(l=20, r=20, t=20, b=20))\n",
    "plotly.offline.iplot(fig)"
   ]
  }
 ],
 "metadata": {
  "kernelspec": {
   "display_name": "env",
   "language": "python",
   "name": "python3"
  },
  "language_info": {
   "codemirror_mode": {
    "name": "ipython",
    "version": 3
   },
   "file_extension": ".py",
   "mimetype": "text/x-python",
   "name": "python",
   "nbconvert_exporter": "python",
   "pygments_lexer": "ipython3",
   "version": "3.10.10"
  },
  "orig_nbformat": 4
 },
 "nbformat": 4,
 "nbformat_minor": 2
}
